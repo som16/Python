{
 "cells": [
  {
   "cell_type": "markdown",
   "metadata": {},
   "source": [
    "# OPEN API\n",
    "이 문서는 2020.03.04을 기준으로 작성되었습니다. 실습에 활용하는 사이트들이 변경된 경우 유효하지 않을 수 있습니다."
   ]
  },
  {
   "cell_type": "markdown",
   "metadata": {},
   "source": [
    "#      "
   ]
  },
  {
   "cell_type": "markdown",
   "metadata": {},
   "source": [
    "출처 : https://helloworld-88.tistory.com/21 2020.03.04 발췌\n",
    "##  OPEN API란?\n",
    "* Open API는 누구나 사용할 수 있도록 공개된 API\n",
    "* <b>Open Application Programming Interface</b>의 약자로 <b>오픈 API</b>, <b>공개 API</b>라고도 불린다.\n",
    "* 개발자에게 사유 응용 소프트웨어나 웹 서비스에 프로그래밍적인 권한을 제공한다.\n",
    "\n",
    "## API란?\n",
    "그렇다면 API란 무엇일까?\n",
    "* 어떠한 응용 프로그램에서 데이터를 주고 받기 위한 방법을 의미\n",
    "* <b>Application Programming Interface</b>의 약자\n",
    "* 오픈 API와 비공개 API로 나누어지며 특정 사이트에서 특정 데이터를 공유할 경우 어떤 방식으로 정보를 요청하고 받을 수 있는지에 대한 규격"
   ]
  },
  {
   "cell_type": "markdown",
   "metadata": {},
   "source": [
    "#    "
   ]
  },
  {
   "cell_type": "code",
   "execution_count": 6,
   "metadata": {},
   "outputs": [],
   "source": [
    "import numpy as np\n",
    "import pandas as pd\n",
    "\n",
    "import urllib.request as ul\n",
    "import requests\n",
    "import json"
   ]
  },
  {
   "cell_type": "markdown",
   "metadata": {},
   "source": [
    "<font color = \"red\"><b>참고 1</b></font>\n",
    "# JSON이란 무엇일까요?\n",
    "출처 : Nesoy Blog https://nesoy.github.io/articles/2017-02/JSON 2020.02.21 발췌\n",
    "\n",
    "## 1. JSON(JavaScript Object Notation)이란?\n",
    "* JSON은 **경량(Lightweight)의 DATA-교환 형식**\n",
    "* Javascript에서 객체를 만들 때 사용하는 표현식을 의미한다.\n",
    "* JSON 표현식은 사람과 기계 모두 이해하기 쉬우며 용량이 작아서, 최근에는 JSON이 XML을 대체해서 데이터 전송 등에 많이 사용한다.\n",
    "* 특정 언어에 종속되지 않으며, 대부분의 프로그래밍 언어에서 JSON 포맷의 데이터를 핸들링 할 수 있는 라이브러리를 제공한다.\n",
    "\n",
    "## 2. JSON(JavaScript Object Notation) 형식\n",
    "* ### 2.1 name-value 형식의 쌍(pair)\n",
    "\n",
    "        여러 가지 언어들에서 object, hashtable, struct로 실현되었다.\n",
    "        파이썬의 딕셔너리(dictionary) 형태와 유사\n",
    "\n",
    "    기본구조 { String key : String Value }\n",
    "    \n",
    "    {\n",
    "      \"firstName\": \"Som\",\n",
    "      \"lastName\": \"Jeong\",\n",
    "      \"email\": \"som.j0016@gmail.com\"\n",
    "    }\n",
    "\n",
    "\n",
    "* ### 2.2 값들의 순서화된 리스트 형식\n",
    "\n",
    "        여러 가지 언어들에서 배열(Array), 리스트(List)로 실현되었다.\n",
    "        [ value1, value2, ...]\n",
    "    {\n",
    "      \"firstName\": \"Som\",\n",
    "      \"lastName\": \"Jeong\",\n",
    "      \"email\": \"som.j0016@gmail.com\",\n",
    "      \"hobby\": [\"computing\",\"drawing\"]\n",
    "\n",
    "    }"
   ]
  },
  {
   "cell_type": "markdown",
   "metadata": {},
   "source": [
    "#   "
   ]
  },
  {
   "cell_type": "markdown",
   "metadata": {},
   "source": [
    "# 실습 1\n",
    "## KOFIC 영화진흥위원회\n",
    "\n",
    "영화관 입장권 통합전산망 open API (http://www.kobis.or.kr/kobisopenapi/homepg/main/main.do) 를 이용하여 일별박스오피스를 알아보자."
   ]
  },
  {
   "cell_type": "markdown",
   "metadata": {},
   "source": [
    "#    "
   ]
  },
  {
   "cell_type": "markdown",
   "metadata": {},
   "source": [
    "<font color = \"red\"><b>참고 2</b></font>\n",
    "### * 영화관 입장권 통합전산망 open API 키 값 받는 법\n",
    "\n",
    "1. 영화관 입장권 통합전산망 회원가입\n",
    "\n",
    "2. 메인 페이지의 상단 메뉴에서 '키발급/관리' 클릭\n",
    "\n",
    "<img src = \"https://github.com/som16/Python/blob/master/OPEN%20API/api_1.jpg\">\n"
    
    
    
    ,
    "\n",
    "3. 키발급/관리 페이지에서 '키발급받기' 클릭 \n",
    "\n",
    "<img src = \"api_3.jpg\" width = \"400px\">\n",
    "\n",
    "4. 키발급/관리 '필수입력 항목' 입력하고 하단의 '키 발급' 클릭 \n",
    "\n",
    "<img src = \"api_4.jpg\" width = \"400px\">\n",
    "\n",
    "5. 키발급/관리 페이지 중앙 표의 첫번째 열에 '발급키' 확인 \n",
    "\n",
    "<img src = \"api_2.jpg\" width = \"400px\">"
   ]
  },
  {
   "cell_type": "markdown",
   "metadata": {},
   "source": [
    "#    "
   ]
  },
  {
   "cell_type": "markdown",
   "metadata": {},
   "source": [
    "###  1. 인터페이스\n",
    "메인 페이지의 상단 메뉴에서 'OPEN API' 클릭 > 3번 항목 확인\n",
    "<img src = \"api_5.png\" width = \"400px\">\n",
    "\n",
    "\n",
    "* 해당 사이트에서 요구하는 형태의 자료형으로 입력.\n",
    "* 필수 입력항목과 선택 입력항목 구분.\n",
    "\n",
    "_+ 응답구조도 함께 확인_"
   ]
  },
  {
   "cell_type": "code",
   "execution_count": 3,
   "metadata": {},
   "outputs": [],
   "source": [
    "key =  \"키 값\"# 문자열(필수) : 발급받은키 값을 입력합니다.\n",
    "\n",
    "targetDt = \"20200202\"# 문자열(필수) : 조회하고자 하는 날짜를 yyyymmdd 형식으로 입력합니다\n",
    "\n",
    "#itemPerPage = # 문자열 : 결과 ROW 의 개수를 지정합니다.(default : “10”, 최대 : “10“)\n",
    "\n",
    "#multiMovieYn = # 문자열 : 다양성 영화/상업영화를 구분지어 조회할 수 있습니다.\n",
    "               # \"Y\" : 다양성 영화 \"N\" : 상업영화 (default : 전체)\n",
    "\n",
    "#repNationCd = # 문자열 : 한국/외국 영화별로 조회할 수 있습니다.\n",
    "              # \"K\" : : 한국영화 \"F\" : 외국영화 (default : 전체)\n",
    "\n",
    "#wideAreaCd = # 문자열 : 상영지역별로 조회할 수 있으며, 지역코드는 공통코드 조회 서비스에서 “0105000000” 로서 조회된 지역코드입니다. (default : 전체)"
   ]
  },
  {
   "cell_type": "markdown",
   "metadata": {},
   "source": [
    "#  "
   ]
  },
  {
   "cell_type": "markdown",
   "metadata": {},
   "source": [
    "<font color = \"red\"><b>참고 3</b></font>\n",
    "# URL 문법\n",
    "\n",
    "출처 : https://feco.tistory.com/2 2020.02.21 발췌\n",
    "\n",
    "\n",
    "대부분의 URL 스킴의 문법은 일반적으로 9개 부분으로 나뉨\n",
    "\n",
    "#### ( 스킴:// 사용자이름 : 비밀번호 @ 호스트 : 포트 / 경로 ; 파라미터 ? 질의 # 프래그먼트 )"
   ]
  },
  {
   "cell_type": "markdown",
   "metadata": {},
   "source": [
    "#  "
   ]
  },
  {
   "cell_type": "markdown",
   "metadata": {},
   "source": [
    "### 2. 타겟 url 지정\n",
    "* 요청 URL\n",
    "* 인터페이스에서 필수 항목은 반드시 입력"
   ]
  },
  {
   "cell_type": "code",
   "execution_count": 4,
   "metadata": {},
   "outputs": [
    {
     "data": {
      "text/plain": [
       "'http://www.kobis.or.kr/kobisopenapi/webservice/rest/boxoffice/searchDailyBoxOfficeList.json?key=6e37267219672345fca88df9bc8111ff&targetDt=20200202'"
      ]
     },
     "execution_count": 4,
     "metadata": {},
     "output_type": "execute_result"
    }
   ],
   "source": [
    "# Q1. 다음 코드에서 \\는 무엇을 의미할까? \n",
    "# A1. url이 길어질 때, 줄바꿈을 의미.\n",
    "\n",
    "# Q2. 다음 url에서 ?와 &의 의미는 무엇인가요?\n",
    "# A2. url에서 ?는 질의, &는 and의 의미. 즉, 여러개의 질의문을 연결.\n",
    "\n",
    "# REST 방식\n",
    "# 요청 url(json 형식) +  인터페이스 항목과 값\n",
    "\n",
    "# KOFIC는 json과 xml 2가지 형식 지원\n",
    "url = \"http://www.kobis.or.kr/kobisopenapi/webservice/rest/boxoffice/searchDailyBoxOfficeList.json?\" + \\\n",
    "      \"key=\" + str(key) + \\\n",
    "      \"&targetDt=\" + str(targetDt)\n",
    "\n",
    "url # 원하는 형태의 url인지 확인."
   ]
  },
  {
   "cell_type": "code",
   "execution_count": 5,
   "metadata": {},
   "outputs": [
    {
     "data": {
      "text/plain": [
       "<urllib.request.Request at 0x2531e4c9208>"
      ]
     },
     "execution_count": 5,
     "metadata": {},
     "output_type": "execute_result"
    }
   ],
   "source": [
    "request = ul.Request(url) # 해당 url로 요청\n",
    "request"
   ]
  },
  {
   "cell_type": "code",
   "execution_count": 6,
   "metadata": {},
   "outputs": [
    {
     "data": {
      "text/plain": [
       "<http.client.HTTPResponse at 0x2531baee1d0>"
      ]
     },
     "execution_count": 6,
     "metadata": {},
     "output_type": "execute_result"
    }
   ],
   "source": [
    "response = ul.urlopen(request) # 해당 url 응답\n",
    "response"
   ]
  },
  {
   "cell_type": "markdown",
   "metadata": {},
   "source": [
    "#    "
   ]
  },
  {
   "cell_type": "markdown",
   "metadata": {},
   "source": [
    "### 3. HTTP 응답상태 확인 및 디코딩"
   ]
  },
  {
   "cell_type": "code",
   "execution_count": 7,
   "metadata": {},
   "outputs": [
    {
     "data": {
      "text/plain": [
       "200"
      ]
     },
     "execution_count": 7,
     "metadata": {},
     "output_type": "execute_result"
    }
   ],
   "source": [
    "# Q3. rescode 결과가 무엇인가요? 그 결과의 의미는 무엇인가요?\n",
    "# A3. 참고4 참고하기\n",
    "\n",
    "rescode = response.getcode()\n",
    "rescode"
   ]
  },
  {
   "cell_type": "markdown",
   "metadata": {},
   "source": [
    "#   "
   ]
  },
  {
   "cell_type": "markdown",
   "metadata": {},
   "source": [
    "<font color = \"red\"><b>참고4</b></font>\n",
    "# HTTP 응답 상태 코드\n",
    "\n",
    "출처 : https://developer.mozilla.org/ko/docs/Web/HTTP/Status 2020.02.21 발췌\n",
    "\n",
    "HTTP 응답 상태 코드는 특정 HTTP 요청이 성공적으로 완료되었는지 알려줍니다. 응답은 5개의 그룹으로 나누어집니다.\n",
    "1. 정보를 제공하는 응답\n",
    "\n",
    "\n",
    "2. 성공적인 응답\n",
    "    * __200__ OK\n",
    "\n",
    "\n",
    "3. 리다이렉트\n",
    "\n",
    "\n",
    "4. 클라이언트 에러\n",
    "    * __400__ Bad Request\n",
    "    * __404__ Not Found\n",
    "\n",
    "\n",
    "5. 서버 에러"
   ]
  },
  {
   "cell_type": "markdown",
   "metadata": {},
   "source": [
    "#   "
   ]
  },
  {
   "cell_type": "code",
   "execution_count": 8,
   "metadata": {},
   "outputs": [
    {
     "data": {
      "text/plain": [
       "b'{\"boxOfficeResult\":{\"boxofficeType\":\"\\xec\\x9d\\xbc\\xeb\\xb3\\x84 \\xeb\\xb0\\x95\\xec\\x8a\\xa4\\xec\\x98\\xa4\\xed\\x94\\xbc\\xec\\x8a\\xa4\",\"showRange\":\"20200202~20200202\",\"dailyBoxOfficeList\":[{\"rnum\":\"1\",\"rank\":\"1\",\"rankInten\":\"0\",\"rankOldAndNew\":\"OLD\",\"movieCd\":\"20180939\",\"movieNm\":\"\\xeb\\x82\\xa8\\xec\\x82\\xb0\\xec\\x9d\\x98 \\xeb\\xb6\\x80\\xec\\x9e\\xa5\\xeb\\x93\\xa4\",\"openDt\":\"2020-01-22\",\"salesAmt\":\"1438625680\",\"salesShare\":\"45.8\",\"salesInten\":\"-449977040\",\"salesChange\":\"-23.8\",\"salesAcc\":\"36998119620\",\"audiCnt\":\"163169\",\"audiInten\":\"-50835\",\"audiChange\":\"-23.8\",\"audiAcc\":\"4251592\",\"scrnCnt\":\"1353\",\"showCnt\":\"7300\"},{\"rnum\":\"2\",\"rank\":\"2\",\"rankInten\":\"0\",\"rankOldAndNew\":\"OLD\",\"movieCd\":\"20192101\",\"movieNm\":\"\\xed\\x9e\\x88\\xed\\x8a\\xb8\\xeb\\xa7\\xa8\",\"openDt\":\"2020-01-22\",\"salesAmt\":\"1020543170\",\"salesShare\":\"32.5\",\"salesInten\":\"-212127790\",\"salesChange\":\"-17.2\",\"salesAcc\":\"18375588970\",\"audiCnt\":\"115867\",\"audiInten\":\"-24171\",\"audiChange\":\"-17.3\",\"audiAcc\":\"2129921\",\"scrnCnt\":\"1062\",\"showCnt\":\"5147\"},{\"rnum\":\"3\",\"rank\":\"3\",\"rankInten\":\"0\",\"rankOldAndNew\":\"OLD\",\"movieCd\":\"20192300\",\"movieNm\":\"\\xec\\x8a\\xa4\\xed\\x8c\\x8c\\xec\\x9d\\xb4 \\xec\\xa7\\x80\\xeb\\x8b\\x88\\xec\\x96\\xb4\\xec\\x8a\\xa4 \",\"openDt\":\"2020-01-22\",\"salesAmt\":\"150952940\",\"salesShare\":\"4.8\",\"salesInten\":\"-33558960\",\"salesChange\":\"-18.2\",\"salesAcc\":\"3508194100\",\"audiCnt\":\"18245\",\"audiInten\":\"-4158\",\"audiChange\":\"-18.6\",\"audiAcc\":\"427464\",\"scrnCnt\":\"658\",\"showCnt\":\"1400\"},{\"rnum\":\"4\",\"rank\":\"4\",\"rankInten\":\"0\",\"rankOldAndNew\":\"OLD\",\"movieCd\":\"20188421\",\"movieNm\":\"\\xeb\\xaf\\xb8\\xec\\x8a\\xa4\\xed\\x84\\xb0 \\xec\\xa3\\xbc: \\xec\\x82\\xac\\xeb\\x9d\\xbc\\xec\\xa7\\x84 VIP\",\"openDt\":\"2020-01-22\",\"salesAmt\":\"120614300\",\"salesShare\":\"3.8\",\"salesInten\":\"-25071060\",\"salesChange\":\"-17.2\",\"salesAcc\":\"4947984680\",\"audiCnt\":\"14381\",\"audiInten\":\"-3095\",\"audiChange\":\"-17.7\",\"audiAcc\":\"587819\",\"scrnCnt\":\"594\",\"showCnt\":\"1369\"},{\"rnum\":\"5\",\"rank\":\"5\",\"rankInten\":\"0\",\"rankOldAndNew\":\"OLD\",\"movieCd\":\"20100312\",\"movieNm\":\"\\xec\\x9d\\xb8\\xec\\x85\\x89\\xec\\x85\\x98\",\"openDt\":\"2010-07-21\",\"salesAmt\":\"121050000\",\"salesShare\":\"3.9\",\"salesInten\":\"-32294000\",\"salesChange\":\"-21.1\",\"salesAcc\":\"44004924200\",\"audiCnt\":\"13327\",\"audiInten\":\"-3423\",\"audiChange\":\"-20.4\",\"audiAcc\":\"5898428\",\"scrnCnt\":\"236\",\"showCnt\":\"729\"},{\"rnum\":\"6\",\"rank\":\"6\",\"rankInten\":\"0\",\"rankOldAndNew\":\"OLD\",\"movieCd\":\"20183002\",\"movieNm\":\"\\xed\\x95\\xb4\\xec\\xb9\\x98\\xec\\xa7\\x80\\xec\\x95\\x8a\\xec\\x95\\x84\",\"openDt\":\"2020-01-15\",\"salesAmt\":\"60092080\",\"salesShare\":\"1.9\",\"salesInten\":\"-11211950\",\"salesChange\":\"-15.7\",\"salesAcc\":\"10226508060\",\"audiCnt\":\"7108\",\"audiInten\":\"-1462\",\"audiChange\":\"-17.1\",\"audiAcc\":\"1217492\",\"scrnCnt\":\"435\",\"showCnt\":\"759\"},{\"rnum\":\"7\",\"rank\":\"7\",\"rankInten\":\"0\",\"rankOldAndNew\":\"OLD\",\"movieCd\":\"20198676\",\"movieNm\":\"\\xed\\x83\\x80\\xec\\x98\\xa4\\xeb\\xa5\\xb4\\xeb\\x8a\\x94 \\xec\\x97\\xac\\xec\\x9d\\xb8\\xec\\x9d\\x98 \\xec\\xb4\\x88\\xec\\x83\\x81\",\"openDt\":\"2020-01-16\",\"salesAmt\":\"43652140\",\"salesShare\":\"1.4\",\"salesInten\":\"-7070500\",\"salesChange\":\"-13.9\",\"salesAcc\":\"926500808\",\"audiCnt\":\"4978\",\"audiInten\":\"-854\",\"audiChange\":\"-14.6\",\"audiAcc\":\"111019\",\"scrnCnt\":\"145\",\"showCnt\":\"285\"},{\"rnum\":\"8\",\"rank\":\"8\",\"rankInten\":\"0\",\"rankOldAndNew\":\"OLD\",\"movieCd\":\"20198430\",\"movieNm\":\"\\xeb\\x82\\x98\\xec\\x9d\\xb4\\xeb\\xb8\\x8c\\xec\\x8a\\xa4 \\xec\\x95\\x84\\xec\\x9b\\x83\",\"openDt\":\"2019-12-04\",\"salesAmt\":\"23963720\",\"salesShare\":\"0.8\",\"salesInten\":\"-5600980\",\"salesChange\":\"-18.9\",\"salesAcc\":\"6748210330\",\"audiCnt\":\"3757\",\"audiInten\":\"-912\",\"audiChange\":\"-19.5\",\"audiAcc\":\"795200\",\"scrnCnt\":\"109\",\"showCnt\":\"162\"},{\"rnum\":\"9\",\"rank\":\"9\",\"rankInten\":\"0\",\"rankOldAndNew\":\"OLD\",\"movieCd\":\"20196670\",\"movieNm\":\"\\xeb\\x82\\x98\\xec\\x81\\x9c \\xeb\\x85\\x80\\xec\\x84\\x9d\\xeb\\x93\\xa4: \\xed\\x8f\\xac\\xec\\x97\\x90\\xeb\\xb2\\x84\",\"openDt\":\"2020-01-15\",\"salesAmt\":\"25392660\",\"salesShare\":\"0.8\",\"salesInten\":\"-8032060\",\"salesChange\":\"-24\",\"salesAcc\":\"4844332260\",\"audiCnt\":\"3434\",\"audiInten\":\"-1190\",\"audiChange\":\"-25.7\",\"audiAcc\":\"543095\",\"scrnCnt\":\"186\",\"showCnt\":\"262\"},{\"rnum\":\"10\",\"rank\":\"10\",\"rankInten\":\"1\",\"rankOldAndNew\":\"OLD\",\"movieCd\":\"20199581\",\"movieNm\":\"\\xeb\\x8b\\xa5\\xed\\x84\\xb0 \\xeb\\x91\\x90\\xeb\\xa6\\xac\\xed\\x8b\\x80\",\"openDt\":\"2020-01-08\",\"salesAmt\":\"16408200\",\"salesShare\":\"0.5\",\"salesInten\":\"-2356570\",\"salesChange\":\"-12.6\",\"salesAcc\":\"13430495940\",\"audiCnt\":\"2456\",\"audiInten\":\"-359\",\"audiChange\":\"-12.8\",\"audiAcc\":\"1604127\",\"scrnCnt\":\"204\",\"showCnt\":\"281\"}]}}'"
      ]
     },
     "execution_count": 8,
     "metadata": {},
     "output_type": "execute_result"
    }
   ],
   "source": [
    "if rescode == 200: # 요청이 성공적이라면, read.\n",
    "    responseData = response.read()\n",
    "\n",
    "responseData\n",
    "\n",
    "# Q4. response로 부터 데이터를 읽어왔지만 사람이 읽을 수가 없습니다. 이를 해결하려면 어떤 방법이 있을까요?"
   ]
  },
  {
   "cell_type": "code",
   "execution_count": 9,
   "metadata": {},
   "outputs": [
    {
     "data": {
      "text/plain": [
       "{'boxOfficeResult': {'boxofficeType': '일별 박스오피스',\n",
       "  'showRange': '20200202~20200202',\n",
       "  'dailyBoxOfficeList': [{'rnum': '1',\n",
       "    'rank': '1',\n",
       "    'rankInten': '0',\n",
       "    'rankOldAndNew': 'OLD',\n",
       "    'movieCd': '20180939',\n",
       "    'movieNm': '남산의 부장들',\n",
       "    'openDt': '2020-01-22',\n",
       "    'salesAmt': '1438625680',\n",
       "    'salesShare': '45.8',\n",
       "    'salesInten': '-449977040',\n",
       "    'salesChange': '-23.8',\n",
       "    'salesAcc': '36998119620',\n",
       "    'audiCnt': '163169',\n",
       "    'audiInten': '-50835',\n",
       "    'audiChange': '-23.8',\n",
       "    'audiAcc': '4251592',\n",
       "    'scrnCnt': '1353',\n",
       "    'showCnt': '7300'},\n",
       "   {'rnum': '2',\n",
       "    'rank': '2',\n",
       "    'rankInten': '0',\n",
       "    'rankOldAndNew': 'OLD',\n",
       "    'movieCd': '20192101',\n",
       "    'movieNm': '히트맨',\n",
       "    'openDt': '2020-01-22',\n",
       "    'salesAmt': '1020543170',\n",
       "    'salesShare': '32.5',\n",
       "    'salesInten': '-212127790',\n",
       "    'salesChange': '-17.2',\n",
       "    'salesAcc': '18375588970',\n",
       "    'audiCnt': '115867',\n",
       "    'audiInten': '-24171',\n",
       "    'audiChange': '-17.3',\n",
       "    'audiAcc': '2129921',\n",
       "    'scrnCnt': '1062',\n",
       "    'showCnt': '5147'},\n",
       "   {'rnum': '3',\n",
       "    'rank': '3',\n",
       "    'rankInten': '0',\n",
       "    'rankOldAndNew': 'OLD',\n",
       "    'movieCd': '20192300',\n",
       "    'movieNm': '스파이 지니어스 ',\n",
       "    'openDt': '2020-01-22',\n",
       "    'salesAmt': '150952940',\n",
       "    'salesShare': '4.8',\n",
       "    'salesInten': '-33558960',\n",
       "    'salesChange': '-18.2',\n",
       "    'salesAcc': '3508194100',\n",
       "    'audiCnt': '18245',\n",
       "    'audiInten': '-4158',\n",
       "    'audiChange': '-18.6',\n",
       "    'audiAcc': '427464',\n",
       "    'scrnCnt': '658',\n",
       "    'showCnt': '1400'},\n",
       "   {'rnum': '4',\n",
       "    'rank': '4',\n",
       "    'rankInten': '0',\n",
       "    'rankOldAndNew': 'OLD',\n",
       "    'movieCd': '20188421',\n",
       "    'movieNm': '미스터 주: 사라진 VIP',\n",
       "    'openDt': '2020-01-22',\n",
       "    'salesAmt': '120614300',\n",
       "    'salesShare': '3.8',\n",
       "    'salesInten': '-25071060',\n",
       "    'salesChange': '-17.2',\n",
       "    'salesAcc': '4947984680',\n",
       "    'audiCnt': '14381',\n",
       "    'audiInten': '-3095',\n",
       "    'audiChange': '-17.7',\n",
       "    'audiAcc': '587819',\n",
       "    'scrnCnt': '594',\n",
       "    'showCnt': '1369'},\n",
       "   {'rnum': '5',\n",
       "    'rank': '5',\n",
       "    'rankInten': '0',\n",
       "    'rankOldAndNew': 'OLD',\n",
       "    'movieCd': '20100312',\n",
       "    'movieNm': '인셉션',\n",
       "    'openDt': '2010-07-21',\n",
       "    'salesAmt': '121050000',\n",
       "    'salesShare': '3.9',\n",
       "    'salesInten': '-32294000',\n",
       "    'salesChange': '-21.1',\n",
       "    'salesAcc': '44004924200',\n",
       "    'audiCnt': '13327',\n",
       "    'audiInten': '-3423',\n",
       "    'audiChange': '-20.4',\n",
       "    'audiAcc': '5898428',\n",
       "    'scrnCnt': '236',\n",
       "    'showCnt': '729'},\n",
       "   {'rnum': '6',\n",
       "    'rank': '6',\n",
       "    'rankInten': '0',\n",
       "    'rankOldAndNew': 'OLD',\n",
       "    'movieCd': '20183002',\n",
       "    'movieNm': '해치지않아',\n",
       "    'openDt': '2020-01-15',\n",
       "    'salesAmt': '60092080',\n",
       "    'salesShare': '1.9',\n",
       "    'salesInten': '-11211950',\n",
       "    'salesChange': '-15.7',\n",
       "    'salesAcc': '10226508060',\n",
       "    'audiCnt': '7108',\n",
       "    'audiInten': '-1462',\n",
       "    'audiChange': '-17.1',\n",
       "    'audiAcc': '1217492',\n",
       "    'scrnCnt': '435',\n",
       "    'showCnt': '759'},\n",
       "   {'rnum': '7',\n",
       "    'rank': '7',\n",
       "    'rankInten': '0',\n",
       "    'rankOldAndNew': 'OLD',\n",
       "    'movieCd': '20198676',\n",
       "    'movieNm': '타오르는 여인의 초상',\n",
       "    'openDt': '2020-01-16',\n",
       "    'salesAmt': '43652140',\n",
       "    'salesShare': '1.4',\n",
       "    'salesInten': '-7070500',\n",
       "    'salesChange': '-13.9',\n",
       "    'salesAcc': '926500808',\n",
       "    'audiCnt': '4978',\n",
       "    'audiInten': '-854',\n",
       "    'audiChange': '-14.6',\n",
       "    'audiAcc': '111019',\n",
       "    'scrnCnt': '145',\n",
       "    'showCnt': '285'},\n",
       "   {'rnum': '8',\n",
       "    'rank': '8',\n",
       "    'rankInten': '0',\n",
       "    'rankOldAndNew': 'OLD',\n",
       "    'movieCd': '20198430',\n",
       "    'movieNm': '나이브스 아웃',\n",
       "    'openDt': '2019-12-04',\n",
       "    'salesAmt': '23963720',\n",
       "    'salesShare': '0.8',\n",
       "    'salesInten': '-5600980',\n",
       "    'salesChange': '-18.9',\n",
       "    'salesAcc': '6748210330',\n",
       "    'audiCnt': '3757',\n",
       "    'audiInten': '-912',\n",
       "    'audiChange': '-19.5',\n",
       "    'audiAcc': '795200',\n",
       "    'scrnCnt': '109',\n",
       "    'showCnt': '162'},\n",
       "   {'rnum': '9',\n",
       "    'rank': '9',\n",
       "    'rankInten': '0',\n",
       "    'rankOldAndNew': 'OLD',\n",
       "    'movieCd': '20196670',\n",
       "    'movieNm': '나쁜 녀석들: 포에버',\n",
       "    'openDt': '2020-01-15',\n",
       "    'salesAmt': '25392660',\n",
       "    'salesShare': '0.8',\n",
       "    'salesInten': '-8032060',\n",
       "    'salesChange': '-24',\n",
       "    'salesAcc': '4844332260',\n",
       "    'audiCnt': '3434',\n",
       "    'audiInten': '-1190',\n",
       "    'audiChange': '-25.7',\n",
       "    'audiAcc': '543095',\n",
       "    'scrnCnt': '186',\n",
       "    'showCnt': '262'},\n",
       "   {'rnum': '10',\n",
       "    'rank': '10',\n",
       "    'rankInten': '1',\n",
       "    'rankOldAndNew': 'OLD',\n",
       "    'movieCd': '20199581',\n",
       "    'movieNm': '닥터 두리틀',\n",
       "    'openDt': '2020-01-08',\n",
       "    'salesAmt': '16408200',\n",
       "    'salesShare': '0.5',\n",
       "    'salesInten': '-2356570',\n",
       "    'salesChange': '-12.6',\n",
       "    'salesAcc': '13430495940',\n",
       "    'audiCnt': '2456',\n",
       "    'audiInten': '-359',\n",
       "    'audiChange': '-12.8',\n",
       "    'audiAcc': '1604127',\n",
       "    'scrnCnt': '204',\n",
       "    'showCnt': '281'}]}}"
      ]
     },
     "execution_count": 9,
     "metadata": {},
     "output_type": "execute_result"
    }
   ],
   "source": [
    "# A4. 인코딩(정보화/암호화), 디코딩(정보화/암호화 해제)\n",
    "responseData_kr = json.loads(responseData.decode('UTF-8')) \n",
    "responseData_kr"
   ]
  },
  {
   "cell_type": "code",
   "execution_count": 10,
   "metadata": {},
   "outputs": [
    {
     "data": {
      "text/plain": [
       "dict"
      ]
     },
     "execution_count": 10,
     "metadata": {},
     "output_type": "execute_result"
    }
   ],
   "source": [
    "type(responseData_kr)"
   ]
  },
  {
   "cell_type": "markdown",
   "metadata": {},
   "source": [
    "#   "
   ]
  },
  {
   "cell_type": "markdown",
   "metadata": {},
   "source": [
    "### 4. 데이터 정리\n",
    "#### 4.1 열이름 정리(key 정리)"
   ]
  },
  {
   "cell_type": "code",
   "execution_count": 11,
   "metadata": {},
   "outputs": [
    {
     "data": {
      "text/plain": [
       "dict_keys(['rnum', 'rank', 'rankInten', 'rankOldAndNew', 'movieCd', 'movieNm', 'openDt', 'salesAmt', 'salesShare', 'salesInten', 'salesChange', 'salesAcc', 'audiCnt', 'audiInten', 'audiChange', 'audiAcc', 'scrnCnt', 'showCnt'])"
      ]
     },
     "execution_count": 11,
     "metadata": {},
     "output_type": "execute_result"
    }
   ],
   "source": [
    "# 데이터 타입을 고려해봅시다. [HINT] dictionary\n",
    "key = responseData_kr['boxOfficeResult']['dailyBoxOfficeList'][0].keys()\n",
    "key"
   ]
  },
  {
   "cell_type": "code",
   "execution_count": 12,
   "metadata": {},
   "outputs": [
    {
     "data": {
      "text/plain": [
       "['rnum',\n",
       " 'rank',\n",
       " 'rankInten',\n",
       " 'rankOldAndNew',\n",
       " 'movieCd',\n",
       " 'movieNm',\n",
       " 'openDt',\n",
       " 'salesAmt',\n",
       " 'salesShare',\n",
       " 'salesInten',\n",
       " 'salesChange',\n",
       " 'salesAcc',\n",
       " 'audiCnt',\n",
       " 'audiInten',\n",
       " 'audiChange',\n",
       " 'audiAcc',\n",
       " 'scrnCnt',\n",
       " 'showCnt']"
      ]
     },
     "execution_count": 12,
     "metadata": {},
     "output_type": "execute_result"
    }
   ],
   "source": [
    "key_list = list(key)\n",
    "key_list"
   ]
  },
  {
   "cell_type": "code",
   "execution_count": 13,
   "metadata": {},
   "outputs": [
    {
     "data": {
      "text/plain": [
       "['rnum',\n",
       " 'rank',\n",
       " 'rankInten',\n",
       " 'rankOldAndNew',\n",
       " 'movieCd',\n",
       " 'movieNm',\n",
       " 'openDt',\n",
       " 'salesAmt',\n",
       " 'salesShare',\n",
       " 'salesInten',\n",
       " 'salesChange',\n",
       " 'salesAcc',\n",
       " 'audiCnt',\n",
       " 'audiInten',\n",
       " 'audiChange',\n",
       " 'audiAcc',\n",
       " 'scrnCnt',\n",
       " 'showCnt',\n",
       " 'targetDt']"
      ]
     },
     "execution_count": 13,
     "metadata": {},
     "output_type": "execute_result"
    }
   ],
   "source": [
    "# 해당 날짜를 위한 열이름 추가\n",
    "key_list.append(\"targetDt\")\n",
    "key_list"
   ]
  },
  {
   "cell_type": "markdown",
   "metadata": {},
   "source": [
    "#### 4.2 value 정리"
   ]
  },
  {
   "cell_type": "code",
   "execution_count": 75,
   "metadata": {},
   "outputs": [
    {
     "data": {
      "text/plain": [
       "['1',\n",
       " '1',\n",
       " '0',\n",
       " 'OLD',\n",
       " '20180939',\n",
       " '남산의 부장들',\n",
       " '2020-01-22',\n",
       " '1438625680',\n",
       " '45.8',\n",
       " '-449977040',\n",
       " '-23.8',\n",
       " '36998119620',\n",
       " '163169',\n",
       " '-50835',\n",
       " '-23.8',\n",
       " '4251592',\n",
       " '1353',\n",
       " '7300',\n",
       " 20200202]"
      ]
     },
     "execution_count": 75,
     "metadata": {},
     "output_type": "execute_result"
    }
   ],
   "source": [
    "movie_list = []\n",
    "\n",
    "for data_cut in responseData_kr['boxOfficeResult']['dailyBoxOfficeList']:\n",
    "        value_list = list(data_cut.values())\n",
    "        value_list.append(int(targetDt))\n",
    "        movie_list.append(value_list)\n",
    "\n",
    "movie_list[0]"
   ]
  },
  {
   "cell_type": "markdown",
   "metadata": {},
   "source": [
    "#### 4.3 데이터 프레임으로 만들기"
   ]
  },
  {
   "cell_type": "code",
   "execution_count": 15,
   "metadata": {},
   "outputs": [
    {
     "data": {
      "text/html": [
       "<div>\n",
       "<style scoped>\n",
       "    .dataframe tbody tr th:only-of-type {\n",
       "        vertical-align: middle;\n",
       "    }\n",
       "\n",
       "    .dataframe tbody tr th {\n",
       "        vertical-align: top;\n",
       "    }\n",
       "\n",
       "    .dataframe thead th {\n",
       "        text-align: right;\n",
       "    }\n",
       "</style>\n",
       "<table border=\"1\" class=\"dataframe\">\n",
       "  <thead>\n",
       "    <tr style=\"text-align: right;\">\n",
       "      <th></th>\n",
       "      <th>rnum</th>\n",
       "      <th>rank</th>\n",
       "      <th>rankInten</th>\n",
       "      <th>rankOldAndNew</th>\n",
       "      <th>movieCd</th>\n",
       "      <th>movieNm</th>\n",
       "      <th>openDt</th>\n",
       "      <th>salesAmt</th>\n",
       "      <th>salesShare</th>\n",
       "      <th>salesInten</th>\n",
       "      <th>salesChange</th>\n",
       "      <th>salesAcc</th>\n",
       "      <th>audiCnt</th>\n",
       "      <th>audiInten</th>\n",
       "      <th>audiChange</th>\n",
       "      <th>audiAcc</th>\n",
       "      <th>scrnCnt</th>\n",
       "      <th>showCnt</th>\n",
       "      <th>targetDt</th>\n",
       "    </tr>\n",
       "  </thead>\n",
       "  <tbody>\n",
       "    <tr>\n",
       "      <th>0</th>\n",
       "      <td>1</td>\n",
       "      <td>1</td>\n",
       "      <td>0</td>\n",
       "      <td>OLD</td>\n",
       "      <td>20180939</td>\n",
       "      <td>남산의 부장들</td>\n",
       "      <td>2020-01-22</td>\n",
       "      <td>1438625680</td>\n",
       "      <td>45.8</td>\n",
       "      <td>-449977040</td>\n",
       "      <td>-23.8</td>\n",
       "      <td>36998119620</td>\n",
       "      <td>163169</td>\n",
       "      <td>-50835</td>\n",
       "      <td>-23.8</td>\n",
       "      <td>4251592</td>\n",
       "      <td>1353</td>\n",
       "      <td>7300</td>\n",
       "      <td>20200202</td>\n",
       "    </tr>\n",
       "    <tr>\n",
       "      <th>1</th>\n",
       "      <td>2</td>\n",
       "      <td>2</td>\n",
       "      <td>0</td>\n",
       "      <td>OLD</td>\n",
       "      <td>20192101</td>\n",
       "      <td>히트맨</td>\n",
       "      <td>2020-01-22</td>\n",
       "      <td>1020543170</td>\n",
       "      <td>32.5</td>\n",
       "      <td>-212127790</td>\n",
       "      <td>-17.2</td>\n",
       "      <td>18375588970</td>\n",
       "      <td>115867</td>\n",
       "      <td>-24171</td>\n",
       "      <td>-17.3</td>\n",
       "      <td>2129921</td>\n",
       "      <td>1062</td>\n",
       "      <td>5147</td>\n",
       "      <td>20200202</td>\n",
       "    </tr>\n",
       "    <tr>\n",
       "      <th>2</th>\n",
       "      <td>3</td>\n",
       "      <td>3</td>\n",
       "      <td>0</td>\n",
       "      <td>OLD</td>\n",
       "      <td>20192300</td>\n",
       "      <td>스파이 지니어스</td>\n",
       "      <td>2020-01-22</td>\n",
       "      <td>150952940</td>\n",
       "      <td>4.8</td>\n",
       "      <td>-33558960</td>\n",
       "      <td>-18.2</td>\n",
       "      <td>3508194100</td>\n",
       "      <td>18245</td>\n",
       "      <td>-4158</td>\n",
       "      <td>-18.6</td>\n",
       "      <td>427464</td>\n",
       "      <td>658</td>\n",
       "      <td>1400</td>\n",
       "      <td>20200202</td>\n",
       "    </tr>\n",
       "    <tr>\n",
       "      <th>3</th>\n",
       "      <td>4</td>\n",
       "      <td>4</td>\n",
       "      <td>0</td>\n",
       "      <td>OLD</td>\n",
       "      <td>20188421</td>\n",
       "      <td>미스터 주: 사라진 VIP</td>\n",
       "      <td>2020-01-22</td>\n",
       "      <td>120614300</td>\n",
       "      <td>3.8</td>\n",
       "      <td>-25071060</td>\n",
       "      <td>-17.2</td>\n",
       "      <td>4947984680</td>\n",
       "      <td>14381</td>\n",
       "      <td>-3095</td>\n",
       "      <td>-17.7</td>\n",
       "      <td>587819</td>\n",
       "      <td>594</td>\n",
       "      <td>1369</td>\n",
       "      <td>20200202</td>\n",
       "    </tr>\n",
       "    <tr>\n",
       "      <th>4</th>\n",
       "      <td>5</td>\n",
       "      <td>5</td>\n",
       "      <td>0</td>\n",
       "      <td>OLD</td>\n",
       "      <td>20100312</td>\n",
       "      <td>인셉션</td>\n",
       "      <td>2010-07-21</td>\n",
       "      <td>121050000</td>\n",
       "      <td>3.9</td>\n",
       "      <td>-32294000</td>\n",
       "      <td>-21.1</td>\n",
       "      <td>44004924200</td>\n",
       "      <td>13327</td>\n",
       "      <td>-3423</td>\n",
       "      <td>-20.4</td>\n",
       "      <td>5898428</td>\n",
       "      <td>236</td>\n",
       "      <td>729</td>\n",
       "      <td>20200202</td>\n",
       "    </tr>\n",
       "    <tr>\n",
       "      <th>5</th>\n",
       "      <td>6</td>\n",
       "      <td>6</td>\n",
       "      <td>0</td>\n",
       "      <td>OLD</td>\n",
       "      <td>20183002</td>\n",
       "      <td>해치지않아</td>\n",
       "      <td>2020-01-15</td>\n",
       "      <td>60092080</td>\n",
       "      <td>1.9</td>\n",
       "      <td>-11211950</td>\n",
       "      <td>-15.7</td>\n",
       "      <td>10226508060</td>\n",
       "      <td>7108</td>\n",
       "      <td>-1462</td>\n",
       "      <td>-17.1</td>\n",
       "      <td>1217492</td>\n",
       "      <td>435</td>\n",
       "      <td>759</td>\n",
       "      <td>20200202</td>\n",
       "    </tr>\n",
       "    <tr>\n",
       "      <th>6</th>\n",
       "      <td>7</td>\n",
       "      <td>7</td>\n",
       "      <td>0</td>\n",
       "      <td>OLD</td>\n",
       "      <td>20198676</td>\n",
       "      <td>타오르는 여인의 초상</td>\n",
       "      <td>2020-01-16</td>\n",
       "      <td>43652140</td>\n",
       "      <td>1.4</td>\n",
       "      <td>-7070500</td>\n",
       "      <td>-13.9</td>\n",
       "      <td>926500808</td>\n",
       "      <td>4978</td>\n",
       "      <td>-854</td>\n",
       "      <td>-14.6</td>\n",
       "      <td>111019</td>\n",
       "      <td>145</td>\n",
       "      <td>285</td>\n",
       "      <td>20200202</td>\n",
       "    </tr>\n",
       "    <tr>\n",
       "      <th>7</th>\n",
       "      <td>8</td>\n",
       "      <td>8</td>\n",
       "      <td>0</td>\n",
       "      <td>OLD</td>\n",
       "      <td>20198430</td>\n",
       "      <td>나이브스 아웃</td>\n",
       "      <td>2019-12-04</td>\n",
       "      <td>23963720</td>\n",
       "      <td>0.8</td>\n",
       "      <td>-5600980</td>\n",
       "      <td>-18.9</td>\n",
       "      <td>6748210330</td>\n",
       "      <td>3757</td>\n",
       "      <td>-912</td>\n",
       "      <td>-19.5</td>\n",
       "      <td>795200</td>\n",
       "      <td>109</td>\n",
       "      <td>162</td>\n",
       "      <td>20200202</td>\n",
       "    </tr>\n",
       "    <tr>\n",
       "      <th>8</th>\n",
       "      <td>9</td>\n",
       "      <td>9</td>\n",
       "      <td>0</td>\n",
       "      <td>OLD</td>\n",
       "      <td>20196670</td>\n",
       "      <td>나쁜 녀석들: 포에버</td>\n",
       "      <td>2020-01-15</td>\n",
       "      <td>25392660</td>\n",
       "      <td>0.8</td>\n",
       "      <td>-8032060</td>\n",
       "      <td>-24</td>\n",
       "      <td>4844332260</td>\n",
       "      <td>3434</td>\n",
       "      <td>-1190</td>\n",
       "      <td>-25.7</td>\n",
       "      <td>543095</td>\n",
       "      <td>186</td>\n",
       "      <td>262</td>\n",
       "      <td>20200202</td>\n",
       "    </tr>\n",
       "    <tr>\n",
       "      <th>9</th>\n",
       "      <td>10</td>\n",
       "      <td>10</td>\n",
       "      <td>1</td>\n",
       "      <td>OLD</td>\n",
       "      <td>20199581</td>\n",
       "      <td>닥터 두리틀</td>\n",
       "      <td>2020-01-08</td>\n",
       "      <td>16408200</td>\n",
       "      <td>0.5</td>\n",
       "      <td>-2356570</td>\n",
       "      <td>-12.6</td>\n",
       "      <td>13430495940</td>\n",
       "      <td>2456</td>\n",
       "      <td>-359</td>\n",
       "      <td>-12.8</td>\n",
       "      <td>1604127</td>\n",
       "      <td>204</td>\n",
       "      <td>281</td>\n",
       "      <td>20200202</td>\n",
       "    </tr>\n",
       "  </tbody>\n",
       "</table>\n",
       "</div>"
      ],
      "text/plain": [
       "  rnum rank rankInten rankOldAndNew   movieCd         movieNm      openDt  \\\n",
       "0    1    1         0           OLD  20180939         남산의 부장들  2020-01-22   \n",
       "1    2    2         0           OLD  20192101             히트맨  2020-01-22   \n",
       "2    3    3         0           OLD  20192300       스파이 지니어스   2020-01-22   \n",
       "3    4    4         0           OLD  20188421  미스터 주: 사라진 VIP  2020-01-22   \n",
       "4    5    5         0           OLD  20100312             인셉션  2010-07-21   \n",
       "5    6    6         0           OLD  20183002           해치지않아  2020-01-15   \n",
       "6    7    7         0           OLD  20198676     타오르는 여인의 초상  2020-01-16   \n",
       "7    8    8         0           OLD  20198430         나이브스 아웃  2019-12-04   \n",
       "8    9    9         0           OLD  20196670     나쁜 녀석들: 포에버  2020-01-15   \n",
       "9   10   10         1           OLD  20199581          닥터 두리틀  2020-01-08   \n",
       "\n",
       "     salesAmt salesShare  salesInten salesChange     salesAcc audiCnt  \\\n",
       "0  1438625680       45.8  -449977040       -23.8  36998119620  163169   \n",
       "1  1020543170       32.5  -212127790       -17.2  18375588970  115867   \n",
       "2   150952940        4.8   -33558960       -18.2   3508194100   18245   \n",
       "3   120614300        3.8   -25071060       -17.2   4947984680   14381   \n",
       "4   121050000        3.9   -32294000       -21.1  44004924200   13327   \n",
       "5    60092080        1.9   -11211950       -15.7  10226508060    7108   \n",
       "6    43652140        1.4    -7070500       -13.9    926500808    4978   \n",
       "7    23963720        0.8    -5600980       -18.9   6748210330    3757   \n",
       "8    25392660        0.8    -8032060         -24   4844332260    3434   \n",
       "9    16408200        0.5    -2356570       -12.6  13430495940    2456   \n",
       "\n",
       "  audiInten audiChange  audiAcc scrnCnt showCnt  targetDt  \n",
       "0    -50835      -23.8  4251592    1353    7300  20200202  \n",
       "1    -24171      -17.3  2129921    1062    5147  20200202  \n",
       "2     -4158      -18.6   427464     658    1400  20200202  \n",
       "3     -3095      -17.7   587819     594    1369  20200202  \n",
       "4     -3423      -20.4  5898428     236     729  20200202  \n",
       "5     -1462      -17.1  1217492     435     759  20200202  \n",
       "6      -854      -14.6   111019     145     285  20200202  \n",
       "7      -912      -19.5   795200     109     162  20200202  \n",
       "8     -1190      -25.7   543095     186     262  20200202  \n",
       "9      -359      -12.8  1604127     204     281  20200202  "
      ]
     },
     "execution_count": 15,
     "metadata": {},
     "output_type": "execute_result"
    }
   ],
   "source": [
    "movie_data=pd.DataFrame(movie_list, columns=key_list)\n",
    "movie_data"
   ]
  },
  {
   "cell_type": "markdown",
   "metadata": {},
   "source": [
    "#    \n",
    "### 5. Excel 파일로 저장"
   ]
  },
  {
   "cell_type": "code",
   "execution_count": 18,
   "metadata": {},
   "outputs": [],
   "source": [
    "movie_data.to_excel('prac_API.xlsx', sheet_name='sheet_1', index=False)"
   ]
  },
  {
   "cell_type": "markdown",
   "metadata": {},
   "source": [
    "#  "
   ]
  },
  {
   "cell_type": "markdown",
   "metadata": {},
   "source": [
    "# 실습 2\n",
    "## 공공테이터 포털 open API 사용하기"
   ]
  },
  {
   "cell_type": "markdown",
   "metadata": {},
   "source": [
    "### 원자력발전소 실시간 주변 방사선량 https://www.data.go.kr/dataset/15001091/openapi.do\n",
    "\n",
    "한국수력원자력에서 운영중인 원자력발전소(고리, 한빛, 월성, 한울)의 실시간 주변 방사선량"
   ]
  },
  {
   "cell_type": "markdown",
   "metadata": {},
   "source": [
    "#     "
   ]
  },
  {
   "cell_type": "markdown",
   "metadata": {},
   "source": [
    "<font color = \"red\"><b>참고 5</b></font>\n",
    "### * 공공테이터 포털 open API 키 값 받는 법 & 코드 참고\n",
    "\n",
    "1. 공공테이터 포털 회원가입\n",
    "\n",
    "2. 원하는 open API 데이터 클릭\n",
    "\n",
    "<img src = \"apix_1.png\" width = \"400px\">\n",
    "\n",
    "3. 해당 데이터 페이지에서 '활용신청' 클릭\n",
    "\n",
    "<img src = \"apix_3.jpg\" width = \"400px\">\n",
    "\n",
    "4. '필수입력 항목' 입력하고 우측 하단의 '신청' 클릭 \n",
    "\n",
    "<img src = \"apix_4.png\" width = \"400px\">\n",
    "\n",
    "5. <b>마이페이지 > OPEN API > 개발계정</b>에서 활용신청 승인여부 파악<br/>(마이페이지는 메인 페이지 우측 상단 항목에 있음)\n",
    "\n",
    "<img src = \"apix_6.jpg\" width = \"400px\">\n",
    "\n",
    "6. key(1번), url(2번), 데이터 형식(3번) 확인<br/>(해당 페이지는 로딩이 느린 경우가 많으니 잠시 대기)\n",
    "\n",
    "<img src = \"apix_2.jpg\" width = \"400px\">\n",
    "\n",
    "7. 위 페이지에서 '개발가이드(4번)'를 클릭\n",
    "    * 요청변수, 출력결과, 샘플코드를 확인할 수 있음.\n",
    "\n",
    "<img src = \"apix_5.jpg\" width = \"400px\">\n",
    "\n",
    "7. 위 페이지에서 샘플코드 중 'Python'를 클릭<br/>(사용중인 파이썬 버전에 맞지 않을 수 있으니 참고용으로 사용하는 것이 바람직함.)\n",
    "\n",
    "<img src = \"apix_7.jpg\" width = \"400px\">"
   ]
  },
  {
   "cell_type": "markdown",
   "metadata": {},
   "source": [
    "#    "
   ]
  },
  {
   "cell_type": "code",
   "execution_count": 7,
   "metadata": {},
   "outputs": [],
   "source": [
    "# xml 형식의 데이터인 경우, BeautifulSoup를 이용하여 태그의 정보를 추출하던 과정과 유사\n",
    "from bs4 import BeautifulSoup"
   ]
  },
  {
   "cell_type": "code",
   "execution_count": 8,
   "metadata": {},
   "outputs": [],
   "source": [
    "ServiceKey =  \"키 값\"\n",
    "genName = \"WS\" # 발전소 구분 WS : 월성 KR : 고리 YK : 한빛 UJ : 한울"
   ]
  },
  {
   "cell_type": "markdown",
   "metadata": {},
   "source": [
    "####  샘플코드를 참고하여 코드 작성\n",
    "현재 버전에 맞게 수정"
   ]
  },
  {
   "cell_type": "code",
   "execution_count": 9,
   "metadata": {},
   "outputs": [
    {
     "data": {
      "text/plain": [
       "<urllib.request.Request at 0x213b8a83b38>"
      ]
     },
     "execution_count": 9,
     "metadata": {},
     "output_type": "execute_result"
    }
   ],
   "source": [
    "#from urllib2 import Request, urlopen\n",
    "#from urllib import urlencode, quote_plus\n",
    "\n",
    "url = 'http://www.khnp.co.kr/environ/service/realtime/radiorate?'\n",
    "queryParams = 'ServiceKey=' + str(ServiceKey) + \\\n",
    "              '&genName=' + str(genName) \n",
    "\n",
    "# url + queryParams\n",
    "request =  ul.Request(url + queryParams)\n",
    "request"
   ]
  },
  {
   "cell_type": "code",
   "execution_count": 10,
   "metadata": {},
   "outputs": [
    {
     "data": {
      "text/plain": [
       "<http.client.HTTPResponse at 0x213b8a83ac8>"
      ]
     },
     "execution_count": 10,
     "metadata": {},
     "output_type": "execute_result"
    }
   ],
   "source": [
    "request.get_method = lambda: 'GET'\n",
    "\n",
    "response_body = ul.urlopen(request)\n",
    "response_body"
   ]
  },
  {
   "cell_type": "code",
   "execution_count": 11,
   "metadata": {
    "scrolled": true
   },
   "outputs": [
    {
     "data": {
      "text/plain": [
       "b'<?xml version=\"1.0\" encoding=\"UTF-8\" standalone=\"yes\"?><response><header><resultCode>00</resultCode><resultMsg>NORMAL SERVICE.</resultMsg></header><body><items><item><expl>ERMS-\\xeb\\x82\\xa8\\xeb\\xac\\xb8\\xec\\x84\\x9c\\xec\\xaa\\xbd(MS-1)</expl><name>2200-MS001_STD.C</name><time>2020-03-04 21:45</time><value>0.089</value></item><item><expl>ERMS-\\xeb\\x82\\xa8\\xeb\\xac\\xb8\\xeb\\x8f\\x99\\xec\\xaa\\xbd(MS-2)</expl><name>2200-MS002_STD.C</name><time>2020-03-04 21:45</time><value>0.092</value></item><item><expl>ERMS-1\\xeb\\xb0\\x9c\\xec\\xa0\\x84\\xec\\x86\\x8c(MS-3)</expl><name>2200-MS003_STD.C</name><time>2020-03-04 21:45</time><value>0.086</value></item><item><expl>ERMS-2\\xeb\\xb0\\x9c\\xec\\xa0\\x84\\xec\\x86\\x8c(MS-4)</expl><name>2200-MS004_STD.C</name><time>2020-03-04 21:45</time><value>0.097</value></item><item><expl>ERMS-\\xec\\x8b\\xa0\\xec\\x9b\\x94\\xec\\x84\\xb1(MS-5)</expl><name>2200-MS005_STD.C</name><time>2020-03-04 21:45</time><value>0.096</value></item><item><expl>ERMS-\\xed\\x8f\\x90\\xea\\xb8\\xb0\\xeb\\xac\\xbc\\xec\\xa0\\x80\\xec\\x9e\\xa5\\xea\\xb3\\xa0(MS-6)</expl><name>2200-MS006_STD.C</name><time>2020-03-04 21:45</time><value>0.097</value></item><item><expl>ERMS-\\xec\\x95\\xbc\\xec\\xa0\\x81\\xec\\x9e\\xa51(MS-7)</expl><name>2200-MS007_STD.C</name><time>2020-03-04 21:45</time><value>0.083</value></item><item><expl>ERMS-2\\xeb\\xb0\\x9c\\xec\\xa0\\x95\\xec\\x88\\x98\\xec\\x9e\\xa5(MS-8)</expl><name>2200-MS008_STD.C</name><time>2020-03-04 21:45</time><value>0.091</value></item><item><expl>ERMS-\\xec\\xa7\\x81\\xec\\x9b\\x90\\xec\\x82\\xac\\xed\\x83\\x9d(MS-9)</expl><name>2200-MS009_STD.C</name><time>2020-03-04 21:45</time><value>0.107</value></item><item><expl>ERMS-\\xec\\x83\\x81\\xeb\\xb4\\x89(MS-10)</expl><name>2200-MS010_STD.C</name><time>2020-03-04 21:45</time><value>0.100</value></item><item><expl>ERMS-\\xec\\x9c\\xa1\\xec\\x86\\xa1\\xeb\\x8f\\x84\\xeb\\xa1\\x9c(MS-11)</expl><name>2200-MS011_STD.C</name><time>2020-03-04 21:46</time><value>0.075</value></item><item><expl>ERMS-\\xec\\x9d\\xb8\\xec\\x88\\x98\\xec\\xa0\\x80\\xec\\x9e\\xa5\\xec\\x8b\\x9c\\xec\\x84\\xa4(MS-12)</expl><name>2200-MS012_STD.C</name><time>2020-03-04 21:46</time><value>0.093</value></item><item><expl>ERMS-\\xeb\\x8f\\x99\\xea\\xb5\\xb4\\xec\\x9e\\x85\\xea\\xb5\\xac(MS-13)</expl><name>2200-MS013_STD.C</name><time>2020-03-04 21:40</time><value>0.089</value></item><item><expl>ERMS-\\xec\\xa0\\x84\\xeb\\xa7\\x9d\\xeb\\x8c\\x80\\xeb\\xb6\\x80\\xea\\xb7\\xbc(MS-14)</expl><name>2200-MS014_STD.C</name><time>2020-03-04 21:40</time><value>0.109</value></item><item><expl>ERMS-\\xea\\xb2\\xbd\\xec\\xa3\\xbc(MS-15)</expl><name>2200-MS015_STD.C</name><time>2020-03-04 21:40</time><value>0.099</value></item><item><expl>ERMS-\\xec\\x9a\\xb8\\xec\\x82\\xb0(MS-16)</expl><name>2200-MS016_STD.C</name><time>2020-03-04 21:40</time><value>0.099</value></item><item><expl>ERMS-\\xec\\x8b\\xa0\\xeb\\xaa\\x85(MS-17)</expl><name>2200-MS017_STD.C</name><time>2020-03-04 21:40</time><value>0.102</value></item><item><expl>ERMS-\\xec\\x8b\\xa0\\xec\\x84\\x9c(MS-18)</expl><name>2200-MS018_STD.C</name><time>2020-03-04 21:40</time><value>0.083</value></item><item><expl>ERMS-\\xea\\xb8\\xb0\\xea\\xb5\\xac(MS-19)</expl><name>2200-MS019_STD.C</name><time>2020-03-04 21:40</time><value>0.094</value></item><item><expl>ERMS-\\xec\\x84\\x9d\\xec\\xb4\\x8c(MS-20)</expl><name>2200-MS020_STD.C</name><time>2020-03-04 21:35</time><value>0.121</value></item><item><expl>ERMS-\\xed\\x9a\\xa8\\xeb\\x8f\\x99(MS-21)</expl><name>2200-MS021_STD.C</name><time>2020-03-04 21:40</time><value>0.111</value></item><item><expl>ERMS-\\xeb\\x91\\x90\\xec\\x82\\xb0(MS-22)</expl><name>2200-MS022_STD.C</name><time>2020-03-04 21:40</time><value>0.106</value></item><item><expl>ERMS-\\xed\\x8c\\x94\\xec\\xa1\\xb0(MS-23)</expl><name>2200-MS023_STD.C</name><time>2020-03-04 21:35</time><value>0.110</value></item><item><expl>ERMS-\\xea\\xb0\\x90\\xed\\x8f\\xac2(MS-24)</expl><name>2200-MS024_STD.C</name><time>2020-03-04 21:40</time><value>0.096</value></item></items><numOfRows>10</numOfRows><pageNo>1</pageNo><totalCount>24</totalCount></body></response>'"
      ]
     },
     "execution_count": 11,
     "metadata": {},
     "output_type": "execute_result"
    }
   ],
   "source": [
    "if response_body.getcode() == 200 :\n",
    "    responseData = response_body.read()\n",
    "\n",
    "responseData"
   ]
  },
  {
   "cell_type": "markdown",
   "metadata": {},
   "source": [
    "#    "
   ]
  },
  {
   "cell_type": "code",
   "execution_count": 12,
   "metadata": {},
   "outputs": [
    {
     "data": {
      "text/plain": [
       "'<?xml version=\"1.0\" encoding=\"UTF-8\" standalone=\"yes\"?><response><header><resultCode>00</resultCode><resultMsg>NORMAL SERVICE.</resultMsg></header><body><items><item><expl>ERMS-남문서쪽(MS-1)</expl><name>2200-MS001_STD.C</name><time>2020-03-04 21:45</time><value>0.089</value></item><item><expl>ERMS-남문동쪽(MS-2)</expl><name>2200-MS002_STD.C</name><time>2020-03-04 21:45</time><value>0.092</value></item><item><expl>ERMS-1발전소(MS-3)</expl><name>2200-MS003_STD.C</name><time>2020-03-04 21:45</time><value>0.086</value></item><item><expl>ERMS-2발전소(MS-4)</expl><name>2200-MS004_STD.C</name><time>2020-03-04 21:45</time><value>0.097</value></item><item><expl>ERMS-신월성(MS-5)</expl><name>2200-MS005_STD.C</name><time>2020-03-04 21:45</time><value>0.096</value></item><item><expl>ERMS-폐기물저장고(MS-6)</expl><name>2200-MS006_STD.C</name><time>2020-03-04 21:45</time><value>0.097</value></item><item><expl>ERMS-야적장1(MS-7)</expl><name>2200-MS007_STD.C</name><time>2020-03-04 21:45</time><value>0.083</value></item><item><expl>ERMS-2발정수장(MS-8)</expl><name>2200-MS008_STD.C</name><time>2020-03-04 21:45</time><value>0.091</value></item><item><expl>ERMS-직원사택(MS-9)</expl><name>2200-MS009_STD.C</name><time>2020-03-04 21:45</time><value>0.107</value></item><item><expl>ERMS-상봉(MS-10)</expl><name>2200-MS010_STD.C</name><time>2020-03-04 21:45</time><value>0.100</value></item><item><expl>ERMS-육송도로(MS-11)</expl><name>2200-MS011_STD.C</name><time>2020-03-04 21:46</time><value>0.075</value></item><item><expl>ERMS-인수저장시설(MS-12)</expl><name>2200-MS012_STD.C</name><time>2020-03-04 21:46</time><value>0.093</value></item><item><expl>ERMS-동굴입구(MS-13)</expl><name>2200-MS013_STD.C</name><time>2020-03-04 21:40</time><value>0.089</value></item><item><expl>ERMS-전망대부근(MS-14)</expl><name>2200-MS014_STD.C</name><time>2020-03-04 21:40</time><value>0.109</value></item><item><expl>ERMS-경주(MS-15)</expl><name>2200-MS015_STD.C</name><time>2020-03-04 21:40</time><value>0.099</value></item><item><expl>ERMS-울산(MS-16)</expl><name>2200-MS016_STD.C</name><time>2020-03-04 21:40</time><value>0.099</value></item><item><expl>ERMS-신명(MS-17)</expl><name>2200-MS017_STD.C</name><time>2020-03-04 21:40</time><value>0.102</value></item><item><expl>ERMS-신서(MS-18)</expl><name>2200-MS018_STD.C</name><time>2020-03-04 21:40</time><value>0.083</value></item><item><expl>ERMS-기구(MS-19)</expl><name>2200-MS019_STD.C</name><time>2020-03-04 21:40</time><value>0.094</value></item><item><expl>ERMS-석촌(MS-20)</expl><name>2200-MS020_STD.C</name><time>2020-03-04 21:35</time><value>0.121</value></item><item><expl>ERMS-효동(MS-21)</expl><name>2200-MS021_STD.C</name><time>2020-03-04 21:40</time><value>0.111</value></item><item><expl>ERMS-두산(MS-22)</expl><name>2200-MS022_STD.C</name><time>2020-03-04 21:40</time><value>0.106</value></item><item><expl>ERMS-팔조(MS-23)</expl><name>2200-MS023_STD.C</name><time>2020-03-04 21:35</time><value>0.110</value></item><item><expl>ERMS-감포2(MS-24)</expl><name>2200-MS024_STD.C</name><time>2020-03-04 21:40</time><value>0.096</value></item></items><numOfRows>10</numOfRows><pageNo>1</pageNo><totalCount>24</totalCount></body></response>'"
      ]
     },
     "execution_count": 12,
     "metadata": {},
     "output_type": "execute_result"
    }
   ],
   "source": [
    "# 위 과정을 한번에 정리\n",
    "url = 'http://www.khnp.co.kr/environ/service/realtime/radiorate?'\n",
    "queryParams = 'ServiceKey=' + str(ServiceKey) + \\\n",
    "              '&genName=' + str(genName) \n",
    "\n",
    "# url + queryParams\n",
    "request =  ul.Request(url + queryParams)\n",
    "request.get_method = lambda: 'GET'\n",
    "response_body = ul.urlopen(request).read().decode('utf-8')\n",
    "response_body"
   ]
  },
  {
   "cell_type": "markdown",
   "metadata": {},
   "source": [
    "#   "
   ]
  },
  {
   "cell_type": "markdown",
   "metadata": {},
   "source": [
    "### 데이터 정리\n",
    "### 1. parsing"
   ]
  },
  {
   "cell_type": "code",
   "execution_count": 13,
   "metadata": {},
   "outputs": [
    {
     "name": "stdout",
     "output_type": "stream",
     "text": [
      "<?xml version=\"1.0\" encoding=\"UTF-8\" standalone=\"yes\"?>\n",
      "<html>\n",
      " <body>\n",
      "  <response>\n",
      "   <header>\n",
      "    <resultcode>\n",
      "     00\n",
      "    </resultcode>\n",
      "    <resultmsg>\n",
      "     NORMAL SERVICE.\n",
      "    </resultmsg>\n",
      "   </header>\n",
      "   <items>\n",
      "    <item>\n",
      "     <expl>\n",
      "      ERMS-남문서쪽(MS-1)\n",
      "     </expl>\n",
      "     <name>\n",
      "      2200-MS001_STD.C\n",
      "     </name>\n",
      "     <time>\n",
      "      2020-03-04 21:45\n",
      "     </time>\n",
      "     <value>\n",
      "      0.089\n",
      "     </value>\n",
      "    </item>\n",
      "    <item>\n",
      "     <expl>\n",
      "      ERMS-남문동쪽(MS-2)\n",
      "     </expl>\n",
      "     <name>\n",
      "      2200-MS002_STD.C\n",
      "     </name>\n",
      "     <time>\n",
      "      2020-03-04 21:45\n",
      "     </time>\n",
      "     <value>\n",
      "      0.092\n",
      "     </value>\n",
      "    </item>\n",
      "    <item>\n",
      "     <expl>\n",
      "      ERMS-1발전소(MS-3)\n",
      "     </expl>\n",
      "     <name>\n",
      "      2200-MS003_STD.C\n",
      "     </name>\n",
      "     <time>\n",
      "      2020-03-04 21:45\n",
      "     </time>\n",
      "     <value>\n",
      "      0.086\n",
      "     </value>\n",
      "    </item>\n",
      "    <item>\n",
      "     <expl>\n",
      "      ERMS-2발전소(MS-4)\n",
      "     </expl>\n",
      "     <name>\n",
      "      2200-MS004_STD.C\n",
      "     </name>\n",
      "     <time>\n",
      "      2020-03-04 21:45\n",
      "     </time>\n",
      "     <value>\n",
      "      0.097\n",
      "     </value>\n",
      "    </item>\n",
      "    <item>\n",
      "     <expl>\n",
      "      ERMS-신월성(MS-5)\n",
      "     </expl>\n",
      "     <name>\n",
      "      2200-MS005_STD.C\n",
      "     </name>\n",
      "     <time>\n",
      "      2020-03-04 21:45\n",
      "     </time>\n",
      "     <value>\n",
      "      0.096\n",
      "     </value>\n",
      "    </item>\n",
      "    <item>\n",
      "     <expl>\n",
      "      ERMS-폐기물저장고(MS-6)\n",
      "     </expl>\n",
      "     <name>\n",
      "      2200-MS006_STD.C\n",
      "     </name>\n",
      "     <time>\n",
      "      2020-03-04 21:45\n",
      "     </time>\n",
      "     <value>\n",
      "      0.097\n",
      "     </value>\n",
      "    </item>\n",
      "    <item>\n",
      "     <expl>\n",
      "      ERMS-야적장1(MS-7)\n",
      "     </expl>\n",
      "     <name>\n",
      "      2200-MS007_STD.C\n",
      "     </name>\n",
      "     <time>\n",
      "      2020-03-04 21:45\n",
      "     </time>\n",
      "     <value>\n",
      "      0.083\n",
      "     </value>\n",
      "    </item>\n",
      "    <item>\n",
      "     <expl>\n",
      "      ERMS-2발정수장(MS-8)\n",
      "     </expl>\n",
      "     <name>\n",
      "      2200-MS008_STD.C\n",
      "     </name>\n",
      "     <time>\n",
      "      2020-03-04 21:45\n",
      "     </time>\n",
      "     <value>\n",
      "      0.091\n",
      "     </value>\n",
      "    </item>\n",
      "    <item>\n",
      "     <expl>\n",
      "      ERMS-직원사택(MS-9)\n",
      "     </expl>\n",
      "     <name>\n",
      "      2200-MS009_STD.C\n",
      "     </name>\n",
      "     <time>\n",
      "      2020-03-04 21:45\n",
      "     </time>\n",
      "     <value>\n",
      "      0.107\n",
      "     </value>\n",
      "    </item>\n",
      "    <item>\n",
      "     <expl>\n",
      "      ERMS-상봉(MS-10)\n",
      "     </expl>\n",
      "     <name>\n",
      "      2200-MS010_STD.C\n",
      "     </name>\n",
      "     <time>\n",
      "      2020-03-04 21:45\n",
      "     </time>\n",
      "     <value>\n",
      "      0.100\n",
      "     </value>\n",
      "    </item>\n",
      "    <item>\n",
      "     <expl>\n",
      "      ERMS-육송도로(MS-11)\n",
      "     </expl>\n",
      "     <name>\n",
      "      2200-MS011_STD.C\n",
      "     </name>\n",
      "     <time>\n",
      "      2020-03-04 21:46\n",
      "     </time>\n",
      "     <value>\n",
      "      0.075\n",
      "     </value>\n",
      "    </item>\n",
      "    <item>\n",
      "     <expl>\n",
      "      ERMS-인수저장시설(MS-12)\n",
      "     </expl>\n",
      "     <name>\n",
      "      2200-MS012_STD.C\n",
      "     </name>\n",
      "     <time>\n",
      "      2020-03-04 21:46\n",
      "     </time>\n",
      "     <value>\n",
      "      0.093\n",
      "     </value>\n",
      "    </item>\n",
      "    <item>\n",
      "     <expl>\n",
      "      ERMS-동굴입구(MS-13)\n",
      "     </expl>\n",
      "     <name>\n",
      "      2200-MS013_STD.C\n",
      "     </name>\n",
      "     <time>\n",
      "      2020-03-04 21:40\n",
      "     </time>\n",
      "     <value>\n",
      "      0.089\n",
      "     </value>\n",
      "    </item>\n",
      "    <item>\n",
      "     <expl>\n",
      "      ERMS-전망대부근(MS-14)\n",
      "     </expl>\n",
      "     <name>\n",
      "      2200-MS014_STD.C\n",
      "     </name>\n",
      "     <time>\n",
      "      2020-03-04 21:40\n",
      "     </time>\n",
      "     <value>\n",
      "      0.109\n",
      "     </value>\n",
      "    </item>\n",
      "    <item>\n",
      "     <expl>\n",
      "      ERMS-경주(MS-15)\n",
      "     </expl>\n",
      "     <name>\n",
      "      2200-MS015_STD.C\n",
      "     </name>\n",
      "     <time>\n",
      "      2020-03-04 21:40\n",
      "     </time>\n",
      "     <value>\n",
      "      0.099\n",
      "     </value>\n",
      "    </item>\n",
      "    <item>\n",
      "     <expl>\n",
      "      ERMS-울산(MS-16)\n",
      "     </expl>\n",
      "     <name>\n",
      "      2200-MS016_STD.C\n",
      "     </name>\n",
      "     <time>\n",
      "      2020-03-04 21:40\n",
      "     </time>\n",
      "     <value>\n",
      "      0.099\n",
      "     </value>\n",
      "    </item>\n",
      "    <item>\n",
      "     <expl>\n",
      "      ERMS-신명(MS-17)\n",
      "     </expl>\n",
      "     <name>\n",
      "      2200-MS017_STD.C\n",
      "     </name>\n",
      "     <time>\n",
      "      2020-03-04 21:40\n",
      "     </time>\n",
      "     <value>\n",
      "      0.102\n",
      "     </value>\n",
      "    </item>\n",
      "    <item>\n",
      "     <expl>\n",
      "      ERMS-신서(MS-18)\n",
      "     </expl>\n",
      "     <name>\n",
      "      2200-MS018_STD.C\n",
      "     </name>\n",
      "     <time>\n",
      "      2020-03-04 21:40\n",
      "     </time>\n",
      "     <value>\n",
      "      0.083\n",
      "     </value>\n",
      "    </item>\n",
      "    <item>\n",
      "     <expl>\n",
      "      ERMS-기구(MS-19)\n",
      "     </expl>\n",
      "     <name>\n",
      "      2200-MS019_STD.C\n",
      "     </name>\n",
      "     <time>\n",
      "      2020-03-04 21:40\n",
      "     </time>\n",
      "     <value>\n",
      "      0.094\n",
      "     </value>\n",
      "    </item>\n",
      "    <item>\n",
      "     <expl>\n",
      "      ERMS-석촌(MS-20)\n",
      "     </expl>\n",
      "     <name>\n",
      "      2200-MS020_STD.C\n",
      "     </name>\n",
      "     <time>\n",
      "      2020-03-04 21:35\n",
      "     </time>\n",
      "     <value>\n",
      "      0.121\n",
      "     </value>\n",
      "    </item>\n",
      "    <item>\n",
      "     <expl>\n",
      "      ERMS-효동(MS-21)\n",
      "     </expl>\n",
      "     <name>\n",
      "      2200-MS021_STD.C\n",
      "     </name>\n",
      "     <time>\n",
      "      2020-03-04 21:40\n",
      "     </time>\n",
      "     <value>\n",
      "      0.111\n",
      "     </value>\n",
      "    </item>\n",
      "    <item>\n",
      "     <expl>\n",
      "      ERMS-두산(MS-22)\n",
      "     </expl>\n",
      "     <name>\n",
      "      2200-MS022_STD.C\n",
      "     </name>\n",
      "     <time>\n",
      "      2020-03-04 21:40\n",
      "     </time>\n",
      "     <value>\n",
      "      0.106\n",
      "     </value>\n",
      "    </item>\n",
      "    <item>\n",
      "     <expl>\n",
      "      ERMS-팔조(MS-23)\n",
      "     </expl>\n",
      "     <name>\n",
      "      2200-MS023_STD.C\n",
      "     </name>\n",
      "     <time>\n",
      "      2020-03-04 21:35\n",
      "     </time>\n",
      "     <value>\n",
      "      0.110\n",
      "     </value>\n",
      "    </item>\n",
      "    <item>\n",
      "     <expl>\n",
      "      ERMS-감포2(MS-24)\n",
      "     </expl>\n",
      "     <name>\n",
      "      2200-MS024_STD.C\n",
      "     </name>\n",
      "     <time>\n",
      "      2020-03-04 21:40\n",
      "     </time>\n",
      "     <value>\n",
      "      0.096\n",
      "     </value>\n",
      "    </item>\n",
      "   </items>\n",
      "   <numofrows>\n",
      "    10\n",
      "   </numofrows>\n",
      "   <pageno>\n",
      "    1\n",
      "   </pageno>\n",
      "   <totalcount>\n",
      "    24\n",
      "   </totalcount>\n",
      "  </response>\n",
      " </body>\n",
      "</html>\n"
     ]
    }
   ],
   "source": [
    "soup = BeautifulSoup(response_body, \"lxml\")\n",
    "print(soup.prettify())"
   ]
  },
  {
   "cell_type": "markdown",
   "metadata": {},
   "source": [
    "#   "
   ]
  },
  {
   "cell_type": "markdown",
   "metadata": {},
   "source": [
    "### 2. BeautifulSoup에서 했던 방식과 동일하게 진행."
   ]
  },
  {
   "cell_type": "code",
   "execution_count": 15,
   "metadata": {
    "scrolled": true
   },
   "outputs": [
    {
     "data": {
      "text/plain": [
       "[<item><expl>ERMS-남문서쪽(MS-1)</expl><name>2200-MS001_STD.C</name><time>2020-03-04 21:45</time><value>0.089</value></item>,\n",
       " <item><expl>ERMS-남문동쪽(MS-2)</expl><name>2200-MS002_STD.C</name><time>2020-03-04 21:45</time><value>0.092</value></item>,\n",
       " <item><expl>ERMS-1발전소(MS-3)</expl><name>2200-MS003_STD.C</name><time>2020-03-04 21:45</time><value>0.086</value></item>,\n",
       " <item><expl>ERMS-2발전소(MS-4)</expl><name>2200-MS004_STD.C</name><time>2020-03-04 21:45</time><value>0.097</value></item>,\n",
       " <item><expl>ERMS-신월성(MS-5)</expl><name>2200-MS005_STD.C</name><time>2020-03-04 21:45</time><value>0.096</value></item>,\n",
       " <item><expl>ERMS-폐기물저장고(MS-6)</expl><name>2200-MS006_STD.C</name><time>2020-03-04 21:45</time><value>0.097</value></item>,\n",
       " <item><expl>ERMS-야적장1(MS-7)</expl><name>2200-MS007_STD.C</name><time>2020-03-04 21:45</time><value>0.083</value></item>,\n",
       " <item><expl>ERMS-2발정수장(MS-8)</expl><name>2200-MS008_STD.C</name><time>2020-03-04 21:45</time><value>0.091</value></item>,\n",
       " <item><expl>ERMS-직원사택(MS-9)</expl><name>2200-MS009_STD.C</name><time>2020-03-04 21:45</time><value>0.107</value></item>,\n",
       " <item><expl>ERMS-상봉(MS-10)</expl><name>2200-MS010_STD.C</name><time>2020-03-04 21:45</time><value>0.100</value></item>,\n",
       " <item><expl>ERMS-육송도로(MS-11)</expl><name>2200-MS011_STD.C</name><time>2020-03-04 21:46</time><value>0.075</value></item>,\n",
       " <item><expl>ERMS-인수저장시설(MS-12)</expl><name>2200-MS012_STD.C</name><time>2020-03-04 21:46</time><value>0.093</value></item>,\n",
       " <item><expl>ERMS-동굴입구(MS-13)</expl><name>2200-MS013_STD.C</name><time>2020-03-04 21:40</time><value>0.089</value></item>,\n",
       " <item><expl>ERMS-전망대부근(MS-14)</expl><name>2200-MS014_STD.C</name><time>2020-03-04 21:40</time><value>0.109</value></item>,\n",
       " <item><expl>ERMS-경주(MS-15)</expl><name>2200-MS015_STD.C</name><time>2020-03-04 21:40</time><value>0.099</value></item>,\n",
       " <item><expl>ERMS-울산(MS-16)</expl><name>2200-MS016_STD.C</name><time>2020-03-04 21:40</time><value>0.099</value></item>,\n",
       " <item><expl>ERMS-신명(MS-17)</expl><name>2200-MS017_STD.C</name><time>2020-03-04 21:40</time><value>0.102</value></item>,\n",
       " <item><expl>ERMS-신서(MS-18)</expl><name>2200-MS018_STD.C</name><time>2020-03-04 21:40</time><value>0.083</value></item>,\n",
       " <item><expl>ERMS-기구(MS-19)</expl><name>2200-MS019_STD.C</name><time>2020-03-04 21:40</time><value>0.094</value></item>,\n",
       " <item><expl>ERMS-석촌(MS-20)</expl><name>2200-MS020_STD.C</name><time>2020-03-04 21:35</time><value>0.121</value></item>,\n",
       " <item><expl>ERMS-효동(MS-21)</expl><name>2200-MS021_STD.C</name><time>2020-03-04 21:40</time><value>0.111</value></item>,\n",
       " <item><expl>ERMS-두산(MS-22)</expl><name>2200-MS022_STD.C</name><time>2020-03-04 21:40</time><value>0.106</value></item>,\n",
       " <item><expl>ERMS-팔조(MS-23)</expl><name>2200-MS023_STD.C</name><time>2020-03-04 21:35</time><value>0.110</value></item>,\n",
       " <item><expl>ERMS-감포2(MS-24)</expl><name>2200-MS024_STD.C</name><time>2020-03-04 21:40</time><value>0.096</value></item>]"
      ]
     },
     "execution_count": 15,
     "metadata": {},
     "output_type": "execute_result"
    }
   ],
   "source": [
    "soup.select(\"item\")"
   ]
  },
  {
   "cell_type": "code",
   "execution_count": 16,
   "metadata": {
    "scrolled": true
   },
   "outputs": [
    {
     "data": {
      "text/plain": [
       "[<name>2200-MS001_STD.C</name>,\n",
       " <name>2200-MS002_STD.C</name>,\n",
       " <name>2200-MS003_STD.C</name>,\n",
       " <name>2200-MS004_STD.C</name>,\n",
       " <name>2200-MS005_STD.C</name>,\n",
       " <name>2200-MS006_STD.C</name>,\n",
       " <name>2200-MS007_STD.C</name>,\n",
       " <name>2200-MS008_STD.C</name>,\n",
       " <name>2200-MS009_STD.C</name>,\n",
       " <name>2200-MS010_STD.C</name>,\n",
       " <name>2200-MS011_STD.C</name>,\n",
       " <name>2200-MS012_STD.C</name>,\n",
       " <name>2200-MS013_STD.C</name>,\n",
       " <name>2200-MS014_STD.C</name>,\n",
       " <name>2200-MS015_STD.C</name>,\n",
       " <name>2200-MS016_STD.C</name>,\n",
       " <name>2200-MS017_STD.C</name>,\n",
       " <name>2200-MS018_STD.C</name>,\n",
       " <name>2200-MS019_STD.C</name>,\n",
       " <name>2200-MS020_STD.C</name>,\n",
       " <name>2200-MS021_STD.C</name>,\n",
       " <name>2200-MS022_STD.C</name>,\n",
       " <name>2200-MS023_STD.C</name>,\n",
       " <name>2200-MS024_STD.C</name>]"
      ]
     },
     "execution_count": 16,
     "metadata": {},
     "output_type": "execute_result"
    }
   ],
   "source": [
    "soup.select(\"name\")"
   ]
  },
  {
   "cell_type": "markdown",
   "metadata": {},
   "source": [
    "#### 2.1 열이름 추출"
   ]
  },
  {
   "cell_type": "code",
   "execution_count": 17,
   "metadata": {},
   "outputs": [
    {
     "data": {
      "text/plain": [
       "[<expl>ERMS-남문서쪽(MS-1)</expl>,\n",
       " <name>2200-MS001_STD.C</name>,\n",
       " <time>2020-03-04 21:45</time>,\n",
       " <value>0.089</value>]"
      ]
     },
     "execution_count": 17,
     "metadata": {},
     "output_type": "execute_result"
    }
   ],
   "source": [
    "[i for i in soup.select(\"item\")[0]]"
   ]
  },
  {
   "cell_type": "code",
   "execution_count": 73,
   "metadata": {},
   "outputs": [
    {
     "data": {
      "text/plain": [
       "4"
      ]
     },
     "execution_count": 73,
     "metadata": {},
     "output_type": "execute_result"
    }
   ],
   "source": [
    "col = [i.name for i in soup.select(\"item\")[0]]\n",
    "len(col)"
   ]
  },
  {
   "cell_type": "markdown",
   "metadata": {},
   "source": [
    "#### 2.2 값 추출"
   ]
  },
  {
   "cell_type": "code",
   "execution_count": 18,
   "metadata": {
    "scrolled": true
   },
   "outputs": [
    {
     "data": {
      "text/plain": [
       "[<expl>ERMS-남문서쪽(MS-1)</expl>,\n",
       " <name>2200-MS001_STD.C</name>,\n",
       " <time>2020-03-04 21:45</time>,\n",
       " <value>0.089</value>,\n",
       " <expl>ERMS-남문동쪽(MS-2)</expl>,\n",
       " <name>2200-MS002_STD.C</name>,\n",
       " <time>2020-03-04 21:45</time>,\n",
       " <value>0.092</value>,\n",
       " <expl>ERMS-1발전소(MS-3)</expl>,\n",
       " <name>2200-MS003_STD.C</name>,\n",
       " <time>2020-03-04 21:45</time>,\n",
       " <value>0.086</value>,\n",
       " <expl>ERMS-2발전소(MS-4)</expl>,\n",
       " <name>2200-MS004_STD.C</name>,\n",
       " <time>2020-03-04 21:45</time>,\n",
       " <value>0.097</value>,\n",
       " <expl>ERMS-신월성(MS-5)</expl>,\n",
       " <name>2200-MS005_STD.C</name>,\n",
       " <time>2020-03-04 21:45</time>,\n",
       " <value>0.096</value>,\n",
       " <expl>ERMS-폐기물저장고(MS-6)</expl>,\n",
       " <name>2200-MS006_STD.C</name>,\n",
       " <time>2020-03-04 21:45</time>,\n",
       " <value>0.097</value>,\n",
       " <expl>ERMS-야적장1(MS-7)</expl>,\n",
       " <name>2200-MS007_STD.C</name>,\n",
       " <time>2020-03-04 21:45</time>,\n",
       " <value>0.083</value>,\n",
       " <expl>ERMS-2발정수장(MS-8)</expl>,\n",
       " <name>2200-MS008_STD.C</name>,\n",
       " <time>2020-03-04 21:45</time>,\n",
       " <value>0.091</value>,\n",
       " <expl>ERMS-직원사택(MS-9)</expl>,\n",
       " <name>2200-MS009_STD.C</name>,\n",
       " <time>2020-03-04 21:45</time>,\n",
       " <value>0.107</value>,\n",
       " <expl>ERMS-상봉(MS-10)</expl>,\n",
       " <name>2200-MS010_STD.C</name>,\n",
       " <time>2020-03-04 21:45</time>,\n",
       " <value>0.100</value>,\n",
       " <expl>ERMS-육송도로(MS-11)</expl>,\n",
       " <name>2200-MS011_STD.C</name>,\n",
       " <time>2020-03-04 21:46</time>,\n",
       " <value>0.075</value>,\n",
       " <expl>ERMS-인수저장시설(MS-12)</expl>,\n",
       " <name>2200-MS012_STD.C</name>,\n",
       " <time>2020-03-04 21:46</time>,\n",
       " <value>0.093</value>,\n",
       " <expl>ERMS-동굴입구(MS-13)</expl>,\n",
       " <name>2200-MS013_STD.C</name>,\n",
       " <time>2020-03-04 21:40</time>,\n",
       " <value>0.089</value>,\n",
       " <expl>ERMS-전망대부근(MS-14)</expl>,\n",
       " <name>2200-MS014_STD.C</name>,\n",
       " <time>2020-03-04 21:40</time>,\n",
       " <value>0.109</value>,\n",
       " <expl>ERMS-경주(MS-15)</expl>,\n",
       " <name>2200-MS015_STD.C</name>,\n",
       " <time>2020-03-04 21:40</time>,\n",
       " <value>0.099</value>,\n",
       " <expl>ERMS-울산(MS-16)</expl>,\n",
       " <name>2200-MS016_STD.C</name>,\n",
       " <time>2020-03-04 21:40</time>,\n",
       " <value>0.099</value>,\n",
       " <expl>ERMS-신명(MS-17)</expl>,\n",
       " <name>2200-MS017_STD.C</name>,\n",
       " <time>2020-03-04 21:40</time>,\n",
       " <value>0.102</value>,\n",
       " <expl>ERMS-신서(MS-18)</expl>,\n",
       " <name>2200-MS018_STD.C</name>,\n",
       " <time>2020-03-04 21:40</time>,\n",
       " <value>0.083</value>,\n",
       " <expl>ERMS-기구(MS-19)</expl>,\n",
       " <name>2200-MS019_STD.C</name>,\n",
       " <time>2020-03-04 21:40</time>,\n",
       " <value>0.094</value>,\n",
       " <expl>ERMS-석촌(MS-20)</expl>,\n",
       " <name>2200-MS020_STD.C</name>,\n",
       " <time>2020-03-04 21:35</time>,\n",
       " <value>0.121</value>,\n",
       " <expl>ERMS-효동(MS-21)</expl>,\n",
       " <name>2200-MS021_STD.C</name>,\n",
       " <time>2020-03-04 21:40</time>,\n",
       " <value>0.111</value>,\n",
       " <expl>ERMS-두산(MS-22)</expl>,\n",
       " <name>2200-MS022_STD.C</name>,\n",
       " <time>2020-03-04 21:40</time>,\n",
       " <value>0.106</value>,\n",
       " <expl>ERMS-팔조(MS-23)</expl>,\n",
       " <name>2200-MS023_STD.C</name>,\n",
       " <time>2020-03-04 21:35</time>,\n",
       " <value>0.110</value>,\n",
       " <expl>ERMS-감포2(MS-24)</expl>,\n",
       " <name>2200-MS024_STD.C</name>,\n",
       " <time>2020-03-04 21:40</time>,\n",
       " <value>0.096</value>]"
      ]
     },
     "execution_count": 18,
     "metadata": {},
     "output_type": "execute_result"
    }
   ],
   "source": [
    "[j for i in soup.select(\"item\")\n",
    "    for j in i]"
   ]
  },
  {
   "cell_type": "code",
   "execution_count": 19,
   "metadata": {
    "scrolled": true
   },
   "outputs": [
    {
     "data": {
      "text/plain": [
       "[['ERMS-남문서쪽(MS-1)', '2200-MS001_STD.C', '2020-03-04 21:45', '0.089'],\n",
       " ['ERMS-남문동쪽(MS-2)', '2200-MS002_STD.C', '2020-03-04 21:45', '0.092'],\n",
       " ['ERMS-1발전소(MS-3)', '2200-MS003_STD.C', '2020-03-04 21:45', '0.086'],\n",
       " ['ERMS-2발전소(MS-4)', '2200-MS004_STD.C', '2020-03-04 21:45', '0.097'],\n",
       " ['ERMS-신월성(MS-5)', '2200-MS005_STD.C', '2020-03-04 21:45', '0.096'],\n",
       " ['ERMS-폐기물저장고(MS-6)', '2200-MS006_STD.C', '2020-03-04 21:45', '0.097'],\n",
       " ['ERMS-야적장1(MS-7)', '2200-MS007_STD.C', '2020-03-04 21:45', '0.083'],\n",
       " ['ERMS-2발정수장(MS-8)', '2200-MS008_STD.C', '2020-03-04 21:45', '0.091'],\n",
       " ['ERMS-직원사택(MS-9)', '2200-MS009_STD.C', '2020-03-04 21:45', '0.107'],\n",
       " ['ERMS-상봉(MS-10)', '2200-MS010_STD.C', '2020-03-04 21:45', '0.100'],\n",
       " ['ERMS-육송도로(MS-11)', '2200-MS011_STD.C', '2020-03-04 21:46', '0.075'],\n",
       " ['ERMS-인수저장시설(MS-12)', '2200-MS012_STD.C', '2020-03-04 21:46', '0.093'],\n",
       " ['ERMS-동굴입구(MS-13)', '2200-MS013_STD.C', '2020-03-04 21:40', '0.089'],\n",
       " ['ERMS-전망대부근(MS-14)', '2200-MS014_STD.C', '2020-03-04 21:40', '0.109'],\n",
       " ['ERMS-경주(MS-15)', '2200-MS015_STD.C', '2020-03-04 21:40', '0.099'],\n",
       " ['ERMS-울산(MS-16)', '2200-MS016_STD.C', '2020-03-04 21:40', '0.099'],\n",
       " ['ERMS-신명(MS-17)', '2200-MS017_STD.C', '2020-03-04 21:40', '0.102'],\n",
       " ['ERMS-신서(MS-18)', '2200-MS018_STD.C', '2020-03-04 21:40', '0.083'],\n",
       " ['ERMS-기구(MS-19)', '2200-MS019_STD.C', '2020-03-04 21:40', '0.094'],\n",
       " ['ERMS-석촌(MS-20)', '2200-MS020_STD.C', '2020-03-04 21:35', '0.121'],\n",
       " ['ERMS-효동(MS-21)', '2200-MS021_STD.C', '2020-03-04 21:40', '0.111'],\n",
       " ['ERMS-두산(MS-22)', '2200-MS022_STD.C', '2020-03-04 21:40', '0.106'],\n",
       " ['ERMS-팔조(MS-23)', '2200-MS023_STD.C', '2020-03-04 21:35', '0.110'],\n",
       " ['ERMS-감포2(MS-24)', '2200-MS024_STD.C', '2020-03-04 21:40', '0.096']]"
      ]
     },
     "execution_count": 19,
     "metadata": {},
     "output_type": "execute_result"
    }
   ],
   "source": [
    "val = [[j.get_text() for j in i] for i in soup.select(\"item\")]\n",
    "val"
   ]
  },
  {
   "cell_type": "markdown",
   "metadata": {},
   "source": [
    "#### 2.3 데이터 프레임 만들기"
   ]
  },
  {
   "cell_type": "code",
   "execution_count": 82,
   "metadata": {},
   "outputs": [
    {
     "data": {
      "text/html": [
       "<div>\n",
       "<style scoped>\n",
       "    .dataframe tbody tr th:only-of-type {\n",
       "        vertical-align: middle;\n",
       "    }\n",
       "\n",
       "    .dataframe tbody tr th {\n",
       "        vertical-align: top;\n",
       "    }\n",
       "\n",
       "    .dataframe thead th {\n",
       "        text-align: right;\n",
       "    }\n",
       "</style>\n",
       "<table border=\"1\" class=\"dataframe\">\n",
       "  <thead>\n",
       "    <tr style=\"text-align: right;\">\n",
       "      <th></th>\n",
       "      <th>expl</th>\n",
       "      <th>name</th>\n",
       "      <th>time</th>\n",
       "      <th>value</th>\n",
       "    </tr>\n",
       "  </thead>\n",
       "  <tbody>\n",
       "    <tr>\n",
       "      <th>0</th>\n",
       "      <td>ERMS-남문서쪽(MS-1)</td>\n",
       "      <td>2200-MS001_STD.C</td>\n",
       "      <td>2020-02-24 13:30</td>\n",
       "      <td>0.087</td>\n",
       "    </tr>\n",
       "    <tr>\n",
       "      <th>1</th>\n",
       "      <td>ERMS-남문동쪽(MS-2)</td>\n",
       "      <td>2200-MS002_STD.C</td>\n",
       "      <td>2020-02-24 13:30</td>\n",
       "      <td>0.088</td>\n",
       "    </tr>\n",
       "    <tr>\n",
       "      <th>2</th>\n",
       "      <td>ERMS-1발전소(MS-3)</td>\n",
       "      <td>2200-MS003_STD.C</td>\n",
       "      <td>2020-02-24 13:30</td>\n",
       "      <td>0.085</td>\n",
       "    </tr>\n",
       "    <tr>\n",
       "      <th>3</th>\n",
       "      <td>ERMS-2발전소(MS-4)</td>\n",
       "      <td>2200-MS004_STD.C</td>\n",
       "      <td>2020-02-24 13:30</td>\n",
       "      <td>0.096</td>\n",
       "    </tr>\n",
       "    <tr>\n",
       "      <th>4</th>\n",
       "      <td>ERMS-신월성(MS-5)</td>\n",
       "      <td>2200-MS005_STD.C</td>\n",
       "      <td>2020-02-24 13:30</td>\n",
       "      <td>0.095</td>\n",
       "    </tr>\n",
       "    <tr>\n",
       "      <th>5</th>\n",
       "      <td>ERMS-폐기물저장고(MS-6)</td>\n",
       "      <td>2200-MS006_STD.C</td>\n",
       "      <td>2020-02-24 13:30</td>\n",
       "      <td>0.095</td>\n",
       "    </tr>\n",
       "    <tr>\n",
       "      <th>6</th>\n",
       "      <td>ERMS-야적장1(MS-7)</td>\n",
       "      <td>2200-MS007_STD.C</td>\n",
       "      <td>2020-02-24 13:30</td>\n",
       "      <td>0.081</td>\n",
       "    </tr>\n",
       "    <tr>\n",
       "      <th>7</th>\n",
       "      <td>ERMS-2발정수장(MS-8)</td>\n",
       "      <td>2200-MS008_STD.C</td>\n",
       "      <td>2020-02-24 13:30</td>\n",
       "      <td>0.096</td>\n",
       "    </tr>\n",
       "    <tr>\n",
       "      <th>8</th>\n",
       "      <td>ERMS-직원사택(MS-9)</td>\n",
       "      <td>2200-MS009_STD.C</td>\n",
       "      <td>2020-02-24 13:30</td>\n",
       "      <td>0.105</td>\n",
       "    </tr>\n",
       "    <tr>\n",
       "      <th>9</th>\n",
       "      <td>ERMS-상봉(MS-10)</td>\n",
       "      <td>2200-MS010_STD.C</td>\n",
       "      <td>2020-02-24 13:30</td>\n",
       "      <td>0.101</td>\n",
       "    </tr>\n",
       "    <tr>\n",
       "      <th>10</th>\n",
       "      <td>ERMS-육송도로(MS-11)</td>\n",
       "      <td>2200-MS011_STD.C</td>\n",
       "      <td>2020-02-24 13:30</td>\n",
       "      <td>0.075</td>\n",
       "    </tr>\n",
       "    <tr>\n",
       "      <th>11</th>\n",
       "      <td>ERMS-인수저장시설(MS-12)</td>\n",
       "      <td>2200-MS012_STD.C</td>\n",
       "      <td>2020-02-24 13:30</td>\n",
       "      <td>0.091</td>\n",
       "    </tr>\n",
       "    <tr>\n",
       "      <th>12</th>\n",
       "      <td>ERMS-동굴입구(MS-13)</td>\n",
       "      <td>2200-MS013_STD.C</td>\n",
       "      <td>2020-02-24 13:25</td>\n",
       "      <td>0.089</td>\n",
       "    </tr>\n",
       "    <tr>\n",
       "      <th>13</th>\n",
       "      <td>ERMS-전망대부근(MS-14)</td>\n",
       "      <td>2200-MS014_STD.C</td>\n",
       "      <td>2020-02-24 13:25</td>\n",
       "      <td>0.108</td>\n",
       "    </tr>\n",
       "    <tr>\n",
       "      <th>14</th>\n",
       "      <td>ERMS-경주(MS-15)</td>\n",
       "      <td>2200-MS015_STD.C</td>\n",
       "      <td>2020-02-24 13:25</td>\n",
       "      <td>0.099</td>\n",
       "    </tr>\n",
       "    <tr>\n",
       "      <th>15</th>\n",
       "      <td>ERMS-울산(MS-16)</td>\n",
       "      <td>2200-MS016_STD.C</td>\n",
       "      <td>2020-02-24 13:25</td>\n",
       "      <td>0.095</td>\n",
       "    </tr>\n",
       "    <tr>\n",
       "      <th>16</th>\n",
       "      <td>ERMS-신명(MS-17)</td>\n",
       "      <td>2200-MS017_STD.C</td>\n",
       "      <td>2020-02-24 13:25</td>\n",
       "      <td>0.098</td>\n",
       "    </tr>\n",
       "    <tr>\n",
       "      <th>17</th>\n",
       "      <td>ERMS-신서(MS-18)</td>\n",
       "      <td>2200-MS018_STD.C</td>\n",
       "      <td>2020-02-24 13:25</td>\n",
       "      <td>0.083</td>\n",
       "    </tr>\n",
       "    <tr>\n",
       "      <th>18</th>\n",
       "      <td>ERMS-기구(MS-19)</td>\n",
       "      <td>2200-MS019_STD.C</td>\n",
       "      <td>2020-02-24 13:25</td>\n",
       "      <td>0.094</td>\n",
       "    </tr>\n",
       "    <tr>\n",
       "      <th>19</th>\n",
       "      <td>ERMS-석촌(MS-20)</td>\n",
       "      <td>2200-MS020_STD.C</td>\n",
       "      <td>2020-02-24 13:25</td>\n",
       "      <td>0.119</td>\n",
       "    </tr>\n",
       "    <tr>\n",
       "      <th>20</th>\n",
       "      <td>ERMS-효동(MS-21)</td>\n",
       "      <td>2200-MS021_STD.C</td>\n",
       "      <td>2020-02-24 13:25</td>\n",
       "      <td>0.109</td>\n",
       "    </tr>\n",
       "    <tr>\n",
       "      <th>21</th>\n",
       "      <td>ERMS-두산(MS-22)</td>\n",
       "      <td>2200-MS022_STD.C</td>\n",
       "      <td>2020-02-24 13:25</td>\n",
       "      <td>0.103</td>\n",
       "    </tr>\n",
       "    <tr>\n",
       "      <th>22</th>\n",
       "      <td>ERMS-팔조(MS-23)</td>\n",
       "      <td>2200-MS023_STD.C</td>\n",
       "      <td>2020-02-24 13:25</td>\n",
       "      <td>0.111</td>\n",
       "    </tr>\n",
       "    <tr>\n",
       "      <th>23</th>\n",
       "      <td>ERMS-감포2(MS-24)</td>\n",
       "      <td>2200-MS024_STD.C</td>\n",
       "      <td>2020-02-24 13:25</td>\n",
       "      <td>0.097</td>\n",
       "    </tr>\n",
       "  </tbody>\n",
       "</table>\n",
       "</div>"
      ],
      "text/plain": [
       "                  expl              name              time  value\n",
       "0      ERMS-남문서쪽(MS-1)  2200-MS001_STD.C  2020-02-24 13:30  0.087\n",
       "1      ERMS-남문동쪽(MS-2)  2200-MS002_STD.C  2020-02-24 13:30  0.088\n",
       "2      ERMS-1발전소(MS-3)  2200-MS003_STD.C  2020-02-24 13:30  0.085\n",
       "3      ERMS-2발전소(MS-4)  2200-MS004_STD.C  2020-02-24 13:30  0.096\n",
       "4       ERMS-신월성(MS-5)  2200-MS005_STD.C  2020-02-24 13:30  0.095\n",
       "5    ERMS-폐기물저장고(MS-6)  2200-MS006_STD.C  2020-02-24 13:30  0.095\n",
       "6      ERMS-야적장1(MS-7)  2200-MS007_STD.C  2020-02-24 13:30  0.081\n",
       "7     ERMS-2발정수장(MS-8)  2200-MS008_STD.C  2020-02-24 13:30  0.096\n",
       "8      ERMS-직원사택(MS-9)  2200-MS009_STD.C  2020-02-24 13:30  0.105\n",
       "9       ERMS-상봉(MS-10)  2200-MS010_STD.C  2020-02-24 13:30  0.101\n",
       "10    ERMS-육송도로(MS-11)  2200-MS011_STD.C  2020-02-24 13:30  0.075\n",
       "11  ERMS-인수저장시설(MS-12)  2200-MS012_STD.C  2020-02-24 13:30  0.091\n",
       "12    ERMS-동굴입구(MS-13)  2200-MS013_STD.C  2020-02-24 13:25  0.089\n",
       "13   ERMS-전망대부근(MS-14)  2200-MS014_STD.C  2020-02-24 13:25  0.108\n",
       "14      ERMS-경주(MS-15)  2200-MS015_STD.C  2020-02-24 13:25  0.099\n",
       "15      ERMS-울산(MS-16)  2200-MS016_STD.C  2020-02-24 13:25  0.095\n",
       "16      ERMS-신명(MS-17)  2200-MS017_STD.C  2020-02-24 13:25  0.098\n",
       "17      ERMS-신서(MS-18)  2200-MS018_STD.C  2020-02-24 13:25  0.083\n",
       "18      ERMS-기구(MS-19)  2200-MS019_STD.C  2020-02-24 13:25  0.094\n",
       "19      ERMS-석촌(MS-20)  2200-MS020_STD.C  2020-02-24 13:25  0.119\n",
       "20      ERMS-효동(MS-21)  2200-MS021_STD.C  2020-02-24 13:25  0.109\n",
       "21      ERMS-두산(MS-22)  2200-MS022_STD.C  2020-02-24 13:25  0.103\n",
       "22      ERMS-팔조(MS-23)  2200-MS023_STD.C  2020-02-24 13:25  0.111\n",
       "23     ERMS-감포2(MS-24)  2200-MS024_STD.C  2020-02-24 13:25  0.097"
      ]
     },
     "execution_count": 82,
     "metadata": {},
     "output_type": "execute_result"
    }
   ],
   "source": [
    "NPP_data = pd.DataFrame(val, columns = col)\n",
    "NPP_data"
   ]
  }
 ],
 "metadata": {
  "kernelspec": {
   "display_name": "Python 3",
   "language": "python",
   "name": "python3"
  },
  "language_info": {
   "codemirror_mode": {
    "name": "ipython",
    "version": 3
   },
   "file_extension": ".py",
   "mimetype": "text/x-python",
   "name": "python",
   "nbconvert_exporter": "python",
   "pygments_lexer": "ipython3",
   "version": "3.7.3"
  }
 },
 "nbformat": 4,
 "nbformat_minor": 2
}
