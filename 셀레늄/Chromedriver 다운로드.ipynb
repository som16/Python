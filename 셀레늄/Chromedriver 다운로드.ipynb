{
 "cells": [
  {
   "cell_type": "markdown",
   "metadata": {},
   "source": [
    "### Chromedriver 다운받기 (버전확인)\n",
    "## https://chromedriver.chromium.org/downloads"
   ]
  },
  {
   "cell_type": "markdown",
   "metadata": {},
   "source": [
    "# 1. 자신의 크롬 버전에 해당하는 곳을 클릭\n",
    "<img src = \"cdiv1.png\">"
   ]
  },
  {
   "cell_type": "markdown",
   "metadata": {},
   "source": [
    "### 크롬 버전 확인\n",
    "우측상단 더보기(프로필 우측 세로 점3개) > 도움말 > Chrome 정보\n",
    "<img src = \"cap4.png\" width = \"600\">"
   ]
  },
  {
   "cell_type": "markdown",
   "metadata": {},
   "source": [
    "#   "
   ]
  },
  {
   "cell_type": "markdown",
   "metadata": {},
   "source": [
    "# 2. 자신에게 맞는 파일 다운로드\n",
    "<img src = \"cdiv2.png\">"
   ]
  },
  {
   "cell_type": "markdown",
   "metadata": {},
   "source": [
    "#  "
   ]
  },
  {
   "cell_type": "markdown",
   "metadata": {},
   "source": [
    "# 3. 압축파일을 풀고 chromedriver.exe의 위치 확인\n",
    "chromedriver.exe 파일 경로 복사해 두기."
   ]
  },
  {
   "cell_type": "markdown",
   "metadata": {},
   "source": [
    "#   "
   ]
  },
  {
   "cell_type": "markdown",
   "metadata": {},
   "source": [
    "# 4. 테스트"
   ]
  },
  {
   "cell_type": "code",
   "execution_count": null,
   "metadata": {},
   "outputs": [],
   "source": [
    "#!pip install selenium"
   ]
  },
  {
   "cell_type": "code",
   "execution_count": 2,
   "metadata": {},
   "outputs": [],
   "source": [
    "import selenium\n",
    "from selenium import webdriver as wd \n",
    "from selenium.webdriver import Chrome\n",
    "\n",
    "# chromedriver의 경로 지정하기. \n",
    "div = wd.Chrome('chromdriver의 경로 입력')\n",
    "# 예시) div = wd.Chrome('C:/Users/LG/Downloads/chromedriver.exe')\n",
    "\n",
    "# 실행했을 때 다음과 같은 문구와 함께 크롬 창이 나타나야함.\n",
    "# 'Chrome이 자동화된 테스트 소프트웨어에 의해 제어되고 있습니다.'\n",
    "\n",
    "# 창이 나타나지 않는다면 작업표시줄도 확인해보자."
   ]
  },
  {
   "cell_type": "markdown",
   "metadata": {},
   "source": [
    "<img src = \"cap5.png\">"
   ]
  },
  {
   "cell_type": "code",
   "execution_count": 3,
   "metadata": {},
   "outputs": [],
   "source": [
    "# 실행했을 때 네이버 홈페이지가 나오면 성공.\n",
    "div.get('https://www.naver.com/')"
   ]
  }
 ],
 "metadata": {
  "kernelspec": {
   "display_name": "Python 3",
   "language": "python",
   "name": "python3"
  },
  "language_info": {
   "codemirror_mode": {
    "name": "ipython",
    "version": 3
   },
   "file_extension": ".py",
   "mimetype": "text/x-python",
   "name": "python",
   "nbconvert_exporter": "python",
   "pygments_lexer": "ipython3",
   "version": "3.7.3"
  }
 },
 "nbformat": 4,
 "nbformat_minor": 2
}
